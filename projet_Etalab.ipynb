{
 "cells": [
  {
   "cell_type": "code",
   "execution_count": 1,
   "metadata": {
    "collapsed": false
   },
   "outputs": [
    {
     "name": "stderr",
     "output_type": "stream",
     "text": [
      "/usr/local/lib/python3.4/dist-packages/matplotlib/backends/backend_gtk3agg.py:18: UserWarning: The Gtk3Agg backend is known to not work on Python 3.x with pycairo. Try installing cairocffi.\n",
      "  \"The Gtk3Agg backend is known to not work on Python 3.x with pycairo. \"\n"
     ]
    }
   ],
   "source": [
    "import pandas as pd\n",
    "from matplotlib import pyplot as plt\n",
    "from clean_table import import_clean_licences_2012\n",
    "import dictionnaire_sport\n",
    "\n",
    "%matplotlib inline"
   ]
  },
  {
   "cell_type": "code",
   "execution_count": 2,
   "metadata": {
    "collapsed": true
   },
   "outputs": [],
   "source": [
    "path = \"/home/colinfrisch/Documents/Colin/licences_2012.csv\""
   ]
  },
  {
   "cell_type": "code",
   "execution_count": 3,
   "metadata": {
    "collapsed": false
   },
   "outputs": [
    {
     "name": "stderr",
     "output_type": "stream",
     "text": [
      "/home/colinfrisch/Documents/Colin/git/clean_table.py:35: FutureWarning: convert_objects is deprecated.  Use the data-type specific converters pd.to_datetime, pd.to_timedelta and pd.to_numeric.\n",
      "  t_licences.loc[:, t_licences.columns.isin(starts_with_pop)].convert_objects(convert_numeric=True)\n"
     ]
    }
   ],
   "source": [
    "t_licences = import_clean_licences_2012(path)"
   ]
  },
  {
   "cell_type": "code",
   "execution_count": 38,
   "metadata": {
    "collapsed": false
   },
   "outputs": [],
   "source": [
    "sport_p = {\n",
    "            \"Johan\": 108,\n",
    "            \"Christian\": 108,\n",
    "            \"Paul\": 114,\n",
    "            \"Florian\": 106,\n",
    "            \"Emmanuel\": 108,\n",
    "            \"Natacha\": 119,\n",
    "            \"Michel\": 124,\n",
    "            \"Paul-Antoine\": 121,\n",
    "            \"Chloé\": 219,\n",
    "            \"Marie\": 219,\n",
    "            \"GuillaumeT\": 248,\n",
    "            \"Romain\": 102,\n",
    "            \"Sarah\": 105,\n",
    "            \"Mathilde\": 219,\n",
    "            \"Clémentine\": 402,\n",
    "            \"Clément\": 114,\n",
    "            \"Amélie\": 109,\n",
    "            \"Philippe\": 114,\n",
    "            \"Claire-Marie\": 114,\n",
    "            \"Guillaume\": 122,\n",
    "            \"Alexis\": 222,\n",
    "            \"Viencent\": 122,\n",
    "            \"Colin\": 124\n",
    "}"
   ]
  },
  {
   "cell_type": "code",
   "execution_count": 5,
   "metadata": {
    "collapsed": false,
    "scrolled": true
   },
   "outputs": [
    {
     "data": {
      "text/plain": [
       "73.217887805364356"
      ]
     },
     "execution_count": 5,
     "metadata": {},
     "output_type": "execute_result"
    }
   ],
   "source": [
    "sport = t_licences[\"fed_2012\"] == 103\n",
    "lol = t_licences.loc[sport][[\"l_2012_ratio\"]]\n",
    "total = lol[\"l_2012_ratio\"].sum()\n",
    "total\n"
   ]
  },
  {
   "cell_type": "code",
   "execution_count": 6,
   "metadata": {
    "collapsed": false,
    "scrolled": true
   },
   "outputs": [
    {
     "data": {
      "text/html": [
       "<div>\n",
       "<table border=\"1\" class=\"dataframe\">\n",
       "  <thead>\n",
       "    <tr style=\"text-align: right;\">\n",
       "      <th></th>\n",
       "      <th>LIBELLE</th>\n",
       "      <th>l_2012_ratio</th>\n",
       "    </tr>\n",
       "  </thead>\n",
       "  <tbody>\n",
       "    <tr>\n",
       "      <th>543430</th>\n",
       "      <td>SENLIS</td>\n",
       "      <td>0.448276</td>\n",
       "    </tr>\n",
       "    <tr>\n",
       "      <th>433909</th>\n",
       "      <td>OLIVET</td>\n",
       "      <td>0.250000</td>\n",
       "    </tr>\n",
       "  </tbody>\n",
       "</table>\n",
       "</div>"
      ],
      "text/plain": [
       "       LIBELLE  l_2012_ratio\n",
       "543430  SENLIS      0.448276\n",
       "433909  OLIVET      0.250000"
      ]
     },
     "execution_count": 6,
     "metadata": {},
     "output_type": "execute_result"
    }
   ],
   "source": [
    "communes_taekwondo = t_licences.loc[t_licences[\"fed_2012\"] == 103][['LIBELLE', 'l_2012_ratio']].sort_values(by=\"l_2012_ratio\", ascending=False)\n",
    "communes_taekwondo.head(2)"
   ]
  },
  {
   "cell_type": "code",
   "execution_count": 7,
   "metadata": {
    "collapsed": false
   },
   "outputs": [
    {
     "data": {
      "text/plain": [
       "0.44827586206896552"
      ]
     },
     "execution_count": 7,
     "metadata": {},
     "output_type": "execute_result"
    }
   ],
   "source": [
    "communes_taekwondo.iloc[0,1]"
   ]
  },
  {
   "cell_type": "code",
   "execution_count": 8,
   "metadata": {
    "collapsed": false
   },
   "outputs": [
    {
     "data": {
      "text/plain": [
       "'SENLIS'"
      ]
     },
     "execution_count": 8,
     "metadata": {},
     "output_type": "execute_result"
    }
   ],
   "source": [
    "communes_taekwondo.iloc[0,0]"
   ]
  },
  {
   "cell_type": "markdown",
   "metadata": {},
   "source": [
    "# Tableau Prénoms | Sport | Communes_biggest_ratio |  biggest_ratio"
   ]
  },
  {
   "cell_type": "code",
   "execution_count": 9,
   "metadata": {
    "collapsed": false
   },
   "outputs": [
    {
     "data": {
      "text/plain": [
       "{'Alexis': 222,\n",
       " 'Amélie': 109,\n",
       " 'Chloé': 219,\n",
       " 'Christian': 108,\n",
       " 'Claire-Marie': 114,\n",
       " 'Clément': 114,\n",
       " 'Clémentine': 402,\n",
       " 'Colin': 124,\n",
       " 'Emmanuel': 108,\n",
       " 'Florian': 106,\n",
       " 'Guillaume': 122,\n",
       " 'GuillaumeT': 248,\n",
       " 'Johan': 108,\n",
       " 'Marie': 219,\n",
       " 'Mathilde': 219,\n",
       " 'Michel': 124,\n",
       " 'Natacha': 119,\n",
       " 'Paul': 114,\n",
       " 'Paul-Antoine': 121,\n",
       " 'Philippe': 114,\n",
       " 'Romain-le-pro-du-surf': 253,\n",
       " 'Sarah': 105,\n",
       " 'Viencent': 122}"
      ]
     },
     "execution_count": 9,
     "metadata": {},
     "output_type": "execute_result"
    }
   ],
   "source": [
    "sport_p"
   ]
  },
  {
   "cell_type": "code",
   "execution_count": 10,
   "metadata": {
    "collapsed": false
   },
   "outputs": [
    {
     "data": {
      "text/plain": [
       "'SENLIS'"
      ]
     },
     "execution_count": 10,
     "metadata": {},
     "output_type": "execute_result"
    }
   ],
   "source": [
    "communes_taekwondo = t_licences.loc[t_licences[\"fed_2012\"] == 103][['LIBELLE', 'l_2012_ratio']].sort_values(by=\"l_2012_ratio\", ascending=False)\n",
    "communes_taekwondo.iloc[0,1]\n",
    "communes_taekwondo.iloc[0,0]"
   ]
  },
  {
   "cell_type": "markdown",
   "metadata": {},
   "source": [
    "pour chaque valeur dans le dico, \n",
    "   - je fais le tableau avec le meilleur ratio et la commune\n",
    "   - Je prends le meilleur ratio\n",
    "   - Je prends la commune\n"
   ]
  },
  {
   "cell_type": "code",
   "execution_count": 48,
   "metadata": {
    "collapsed": true
   },
   "outputs": [],
   "source": [
    "import time"
   ]
  },
  {
   "cell_type": "code",
   "execution_count": 56,
   "metadata": {
    "collapsed": false,
    "scrolled": false
   },
   "outputs": [],
   "source": [
    "l_communes = []\n",
    "l_ratio = []\n",
    "for prenom, code_sport in sport_p.items():\n",
    "    communes_taekwondo = t_licences.loc[t_licences[\"fed_2012\"] == code_sport][['LIBELLE', 'l_2012_ratio', 'pop_2010']].sort_values(by=\"l_2012_ratio\", ascending=False)\n",
    "    communes_taekwondo = communes_taekwondo.loc[communes_taekwondo[\"pop_2010\"] > 10]\n",
    "    l_ratio.append(communes_taekwondo.iloc[0,1])\n",
    "    l_communes.append(communes_taekwondo.iloc[0,0])\n",
    "    #time.sleep()"
   ]
  },
  {
   "cell_type": "code",
   "execution_count": 58,
   "metadata": {
    "collapsed": false
   },
   "outputs": [
    {
     "data": {
      "text/plain": [
       "[0.25,\n",
       " 0.46753246753246752,\n",
       " 0.15064935064935064,\n",
       " 0.32380952380952382,\n",
       " 0.12736038569706709,\n",
       " 0.25,\n",
       " 0.55263157894736847,\n",
       " 0.46753246753246752,\n",
       " 0.97163120567375882,\n",
       " 0.04663923182441701,\n",
       " 0.13157894736842105,\n",
       " 0.12736038569706709,\n",
       " 0.96324655436447171,\n",
       " 0.5,\n",
       " 0.11467889908256881,\n",
       " 0.5,\n",
       " 0.25,\n",
       " 0.51724137931034486,\n",
       " 0.46753246753246752,\n",
       " 0.069444444444444448,\n",
       " 0.12736038569706709,\n",
       " 0.12736038569706709,\n",
       " 0.15064935064935064]"
      ]
     },
     "execution_count": 58,
     "metadata": {},
     "output_type": "execute_result"
    }
   ],
   "source": [
    "l_ratio"
   ]
  },
  {
   "cell_type": "code",
   "execution_count": 12,
   "metadata": {
    "collapsed": false
   },
   "outputs": [
    {
     "data": {
      "text/plain": [
       "dict_keys(['Johan', 'Chloé', 'Colin', 'Sarah', 'Romain-le-pro-du-surf', 'Paul', 'Christian', 'Florian', 'Marie', 'Clémentine', 'Natacha', 'Claire-Marie', 'Paul-Antoine', 'Viencent', 'GuillaumeT', 'Guillaume', 'Emmanuel', 'Amélie', 'Mathilde', 'Alexis', 'Philippe', 'Clément', 'Michel'])"
      ]
     },
     "execution_count": 12,
     "metadata": {},
     "output_type": "execute_result"
    }
   ],
   "source": [
    "sport_p.keys()"
   ]
  },
  {
   "cell_type": "code",
   "execution_count": 61,
   "metadata": {
    "collapsed": false,
    "scrolled": false
   },
   "outputs": [
    {
     "data": {
      "text/html": [
       "<div>\n",
       "<table border=\"1\" class=\"dataframe\">\n",
       "  <thead>\n",
       "    <tr style=\"text-align: right;\">\n",
       "      <th></th>\n",
       "      <th>Prénoms</th>\n",
       "      <th>Sports</th>\n",
       "      <th>Communes</th>\n",
       "      <th>Ratio</th>\n",
       "    </tr>\n",
       "  </thead>\n",
       "  <tbody>\n",
       "    <tr>\n",
       "      <th>0</th>\n",
       "      <td>Johan</td>\n",
       "      <td>108</td>\n",
       "      <td>LAPEGE</td>\n",
       "      <td>0.250000</td>\n",
       "    </tr>\n",
       "    <tr>\n",
       "      <th>1</th>\n",
       "      <td>Chloé</td>\n",
       "      <td>219</td>\n",
       "      <td>SAINT-ORENS</td>\n",
       "      <td>0.467532</td>\n",
       "    </tr>\n",
       "    <tr>\n",
       "      <th>2</th>\n",
       "      <td>Colin</td>\n",
       "      <td>124</td>\n",
       "      <td>FOURNELS</td>\n",
       "      <td>0.150649</td>\n",
       "    </tr>\n",
       "    <tr>\n",
       "      <th>3</th>\n",
       "      <td>Sarah</td>\n",
       "      <td>105</td>\n",
       "      <td>AUBONCOURT-VAUZELLES</td>\n",
       "      <td>0.323810</td>\n",
       "    </tr>\n",
       "    <tr>\n",
       "      <th>4</th>\n",
       "      <td>Paul</td>\n",
       "      <td>114</td>\n",
       "      <td>SAINT-NAZAIRE</td>\n",
       "      <td>0.127360</td>\n",
       "    </tr>\n",
       "    <tr>\n",
       "      <th>5</th>\n",
       "      <td>Christian</td>\n",
       "      <td>108</td>\n",
       "      <td>LAPEGE</td>\n",
       "      <td>0.250000</td>\n",
       "    </tr>\n",
       "    <tr>\n",
       "      <th>6</th>\n",
       "      <td>Florian</td>\n",
       "      <td>106</td>\n",
       "      <td>MONTAGNE</td>\n",
       "      <td>0.552632</td>\n",
       "    </tr>\n",
       "    <tr>\n",
       "      <th>7</th>\n",
       "      <td>Marie</td>\n",
       "      <td>219</td>\n",
       "      <td>SAINT-ORENS</td>\n",
       "      <td>0.467532</td>\n",
       "    </tr>\n",
       "    <tr>\n",
       "      <th>8</th>\n",
       "      <td>Clémentine</td>\n",
       "      <td>402</td>\n",
       "      <td>SOS</td>\n",
       "      <td>0.971631</td>\n",
       "    </tr>\n",
       "    <tr>\n",
       "      <th>9</th>\n",
       "      <td>Romain</td>\n",
       "      <td>102</td>\n",
       "      <td>LISSAC-SUR-COUZE</td>\n",
       "      <td>0.046639</td>\n",
       "    </tr>\n",
       "    <tr>\n",
       "      <th>10</th>\n",
       "      <td>Natacha</td>\n",
       "      <td>119</td>\n",
       "      <td>MOLERE</td>\n",
       "      <td>0.131579</td>\n",
       "    </tr>\n",
       "    <tr>\n",
       "      <th>11</th>\n",
       "      <td>Claire-Marie</td>\n",
       "      <td>114</td>\n",
       "      <td>SAINT-NAZAIRE</td>\n",
       "      <td>0.127360</td>\n",
       "    </tr>\n",
       "    <tr>\n",
       "      <th>12</th>\n",
       "      <td>Paul-Antoine</td>\n",
       "      <td>121</td>\n",
       "      <td>PEISEY-NANCROIX</td>\n",
       "      <td>0.963247</td>\n",
       "    </tr>\n",
       "    <tr>\n",
       "      <th>13</th>\n",
       "      <td>Viencent</td>\n",
       "      <td>122</td>\n",
       "      <td>AVON</td>\n",
       "      <td>0.500000</td>\n",
       "    </tr>\n",
       "    <tr>\n",
       "      <th>14</th>\n",
       "      <td>GuillaumeT</td>\n",
       "      <td>248</td>\n",
       "      <td>SERVIES-EN-VAL</td>\n",
       "      <td>0.114679</td>\n",
       "    </tr>\n",
       "    <tr>\n",
       "      <th>15</th>\n",
       "      <td>Guillaume</td>\n",
       "      <td>122</td>\n",
       "      <td>AVON</td>\n",
       "      <td>0.500000</td>\n",
       "    </tr>\n",
       "    <tr>\n",
       "      <th>16</th>\n",
       "      <td>Emmanuel</td>\n",
       "      <td>108</td>\n",
       "      <td>LAPEGE</td>\n",
       "      <td>0.250000</td>\n",
       "    </tr>\n",
       "    <tr>\n",
       "      <th>17</th>\n",
       "      <td>Amélie</td>\n",
       "      <td>109</td>\n",
       "      <td>COURCELLES-EN-BARROIS</td>\n",
       "      <td>0.517241</td>\n",
       "    </tr>\n",
       "    <tr>\n",
       "      <th>18</th>\n",
       "      <td>Mathilde</td>\n",
       "      <td>219</td>\n",
       "      <td>SAINT-ORENS</td>\n",
       "      <td>0.467532</td>\n",
       "    </tr>\n",
       "    <tr>\n",
       "      <th>19</th>\n",
       "      <td>Alexis</td>\n",
       "      <td>222</td>\n",
       "      <td>AVON</td>\n",
       "      <td>0.069444</td>\n",
       "    </tr>\n",
       "    <tr>\n",
       "      <th>20</th>\n",
       "      <td>Philippe</td>\n",
       "      <td>114</td>\n",
       "      <td>SAINT-NAZAIRE</td>\n",
       "      <td>0.127360</td>\n",
       "    </tr>\n",
       "    <tr>\n",
       "      <th>21</th>\n",
       "      <td>Clément</td>\n",
       "      <td>114</td>\n",
       "      <td>SAINT-NAZAIRE</td>\n",
       "      <td>0.127360</td>\n",
       "    </tr>\n",
       "    <tr>\n",
       "      <th>22</th>\n",
       "      <td>Michel</td>\n",
       "      <td>124</td>\n",
       "      <td>FOURNELS</td>\n",
       "      <td>0.150649</td>\n",
       "    </tr>\n",
       "  </tbody>\n",
       "</table>\n",
       "</div>"
      ],
      "text/plain": [
       "         Prénoms  Sports               Communes     Ratio\n",
       "0          Johan     108                 LAPEGE  0.250000\n",
       "1          Chloé     219            SAINT-ORENS  0.467532\n",
       "2          Colin     124               FOURNELS  0.150649\n",
       "3          Sarah     105   AUBONCOURT-VAUZELLES  0.323810\n",
       "4           Paul     114          SAINT-NAZAIRE  0.127360\n",
       "5      Christian     108                 LAPEGE  0.250000\n",
       "6        Florian     106               MONTAGNE  0.552632\n",
       "7          Marie     219            SAINT-ORENS  0.467532\n",
       "8     Clémentine     402                    SOS  0.971631\n",
       "9         Romain     102       LISSAC-SUR-COUZE  0.046639\n",
       "10       Natacha     119                 MOLERE  0.131579\n",
       "11  Claire-Marie     114          SAINT-NAZAIRE  0.127360\n",
       "12  Paul-Antoine     121        PEISEY-NANCROIX  0.963247\n",
       "13      Viencent     122                   AVON  0.500000\n",
       "14    GuillaumeT     248         SERVIES-EN-VAL  0.114679\n",
       "15     Guillaume     122                   AVON  0.500000\n",
       "16      Emmanuel     108                 LAPEGE  0.250000\n",
       "17        Amélie     109  COURCELLES-EN-BARROIS  0.517241\n",
       "18      Mathilde     219            SAINT-ORENS  0.467532\n",
       "19        Alexis     222                   AVON  0.069444\n",
       "20      Philippe     114          SAINT-NAZAIRE  0.127360\n",
       "21       Clément     114          SAINT-NAZAIRE  0.127360\n",
       "22        Michel     124               FOURNELS  0.150649"
      ]
     },
     "execution_count": 61,
     "metadata": {},
     "output_type": "execute_result"
    }
   ],
   "source": [
    "df = pd.DataFrame()\n",
    "df[\"Prénoms\"] = sport_p.keys()\n",
    "df[\"Sports\"] = sport_p.values()\n",
    "df[\"Communes\"] = l_communes\n",
    "df[\"Ratio\"] = l_ratio\n",
    "df"
   ]
  }
 ],
 "metadata": {
  "kernelspec": {
   "display_name": "Python 3",
   "language": "python",
   "name": "python3"
  },
  "language_info": {
   "codemirror_mode": {
    "name": "ipython",
    "version": 3
   },
   "file_extension": ".py",
   "mimetype": "text/x-python",
   "name": "python",
   "nbconvert_exporter": "python",
   "pygments_lexer": "ipython3",
   "version": "3.4.3"
  }
 },
 "nbformat": 4,
 "nbformat_minor": 0
}
