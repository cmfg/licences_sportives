{
 "cells": [
  {
   "cell_type": "code",
   "execution_count": 5,
   "metadata": {
    "collapsed": false
   },
   "outputs": [
    {
     "name": "stderr",
     "output_type": "stream",
     "text": [
      "/usr/local/lib/python3.4/dist-packages/matplotlib/backends/backend_gtk3agg.py:18: UserWarning: The Gtk3Agg backend is known to not work on Python 3.x with pycairo. Try installing cairocffi.\n",
      "  \"The Gtk3Agg backend is known to not work on Python 3.x with pycairo. \"\n"
     ]
    }
   ],
   "source": [
    "import pandas as pd\n",
    "from collections import Counter\n",
    "from matplotlib import pyplot as plt\n"
   ]
  },
  {
   "cell_type": "code",
   "execution_count": 6,
   "metadata": {
    "collapsed": false
   },
   "outputs": [],
   "source": [
    "%matplotlib inline"
   ]
  },
  {
   "cell_type": "code",
   "execution_count": 7,
   "metadata": {
    "collapsed": false
   },
   "outputs": [],
   "source": [
    "sport_dict = {\n",
    "        101: \"athlétisme\",\n",
    "        102: \"sociétés d'aviron\",\n",
    "        103: \"badminton\",\n",
    "        105: \"basketball\",\n",
    "        106: \"boxe \",\n",
    "        107: \"canoë-kayak\",\n",
    "        108: \"cyclisme\",\n",
    "        109: \"équitation\",\n",
    "        110: \"escrime\",\n",
    "        111: \"football\",\n",
    "        112: \" sports de glace\",\n",
    "        113: \"gymnastique \",\n",
    "        114: \"haltérophilie, musculation, force athlétique et culturisme\",\n",
    "        115: \"handball\",\n",
    "        116: \"hockey\",\n",
    "        117: \"judo-jujitsu et disciplines associées\",\n",
    "        118: \"lutte\",\n",
    "        119: \"natation\",\n",
    "        120: \"pentathlon moderne \",\n",
    "        121: \"ski\",\n",
    "        122: \"taekwondo et disciplines associées\" ,\n",
    "        123: \"tennis\",\n",
    "        124: \"tennis de table\",\n",
    "        125: \"tir\",\n",
    "        126: \"tir à l'arc\",\n",
    "        127: \"triathlon\",\n",
    "        128: \"voile\",\n",
    "        129: \"volley-ball\",\n",
    "        131: \"hockey sur glace\",\n",
    "        132: \"golf\",\n",
    "        133: \"rugby\",\n",
    "        201: \"aéromodélisme\",\n",
    "        202: \"aéronautique\",\n",
    "        203: \"aérostation\",\n",
    "        204: \"aïkido, d'aïkibudo et affinitaires\",\n",
    "        205: \"aïkido et de budo\",\n",
    "        206: \"automobile\",\n",
    "        207: \"jeu de balle au tambourin\",\n",
    "        208: \"ballon au poing\",\n",
    "        209: \"ball-trap et de tir à balle\",\n",
    "        210: \"billard\",\n",
    "        211: \"boules\",\n",
    "        212: \"boxe française, savate et disciplines associées\",\n",
    "        213: \"bowling et de sports de quilles\",\n",
    "        214: \"char à voile\",\n",
    "        215: \"la course camarguaise\",\n",
    "        216: \"la course landaise\",\n",
    "        217: \"la course d'orientation\",\n",
    "        218: \"cyclotourisme\",\n",
    "        219: \"danse\",\n",
    "        220: \"échecs\",\n",
    "        221: \"études et sports sous-marins\",\n",
    "        222: \"football américain\",\n",
    "        223: \"fighting full contact et disciplines associées\",\n",
    "        224: \"giraviation\",\n",
    "        226: \"javelot tir sur cible\",\n",
    "        227: \"jeu de paume\",\n",
    "        228: \"joutes et sauvetage nautique\",\n",
    "        229: \"karaté et disciplines associées\",\n",
    "        231: \"longue paume\",\n",
    "        232: \"la montagne et de l'escalade\",\n",
    "        233: \"motocyclisme\",\n",
    "        234: \"motonautique\",\n",
    "        235: \"muaythaï et disciplines associées\",\n",
    "        237: \"parachutisme\",\n",
    "        238: \"pêche sportive au coup\",\n",
    "        239: \"pêcheurs en mer\",\n",
    "        240: \"pêche à la mouche et au lancer\",\n",
    "        241: \"pelote basque\",\n",
    "        242: \"pétanque et jeu provençal\",\n",
    "        243: \"planeur ultra léger motorisé\" ,\n",
    "        244: \"pulka et traineau à chiens\",\n",
    "        245: \"la randonnée pédestre\",\n",
    "        246: \"roller sports\",\n",
    "        248: \"rugby à XIII\",\n",
    "        249: \"sauvetage et secourisme\",\n",
    "        250: \"ski nautique et wake board\",\n",
    "        251: \"spéléologie\",\n",
    "        252: \"squash\",\n",
    "        253: \"surf\",\n",
    "        254: \"Wushu Arts énergétiques et martiaux chinois\",\n",
    "        255: \"sports de traîneau, de ski pulka et cross canins\",\n",
    "        256: \"twirling bâton\",\n",
    "        257: \"vol à voile\",\n",
    "        258: \"vol libre\",\n",
    "        260: \"polo\",\n",
    "        261: \"sports de contact et disciplines associées\",\n",
    "        262: \"baseball et softball\",\n",
    "        263: \"double dutch\",\n",
    "        264: \"Fédération Flying Disc France: \",\n",
    "        401: \"clubs alpins et de montagne\",\n",
    "        402: \"éducation physique et de gymnastique volontaire\",\n",
    "        403: \"sport pour tous\",\n",
    "        404: \"la retraite sportive\",\n",
    "        405: \"travailliste\",\n",
    "        406: \"clubs de la défense\",\n",
    "        407: \"nationale en milieu rural\",\n",
    "        408: \"sportive et culturelle de France\",\n",
    "        409: \"Maccabi \",\n",
    "        410: \"sportive et gymnique du travail (FSGT)\",\n",
    "        411: \"sportive de la police nationale\",\n",
    "        413: \"Union française des œuvres laïques d'éducation p,hysique (UFOLEP)\",\n",
    "        415: \"omnisports des personnels de l'éducation nationa,le de la jeunesse et sports (2 OPEN-JS)\",\n",
    "        417: \"Union nationale sportive Léo Lagrange\",\n",
    "        418: \"d'entreprise\" ,\n",
    "        420: \"Fédération sportive des ASPTT\",\n",
    "        501: \"handisport\",\n",
    "        503: \"adapté\",\n",
    "        601: \"universitaire\",\n",
    "        602: \"Union générale sportive de l'enseignement libre\",\n",
    "        603: \"Union nationale des clubs universitaires\",\n",
    "        604: \"Union nationale scolaire (UNSS)\",\n",
    "        605: \"Union sportive de l'enseignement du premier degré\"\n",
    "        }"
   ]
  },
  {
   "cell_type": "code",
   "execution_count": 8,
   "metadata": {
    "collapsed": false
   },
   "outputs": [],
   "source": [
    "def apply_sport(row):\n",
    "    \"\"\" ajout des libellés de chaque FF\"\"\"\n",
    "    try:\n",
    "        return sport_dict[row]\n",
    "    except KeyError:\n",
    "        return row\n",
    "\n",
    "def split_pop(s):\n",
    "    return list(filter(None, s.split(\"pop\")[1].split(\"_\")))\n",
    "\n",
    "def split_l(s):\n",
    "    return list(filter(None, s.replace('2012', '2010').split(\"l\")[1].split(\"_\")))"
   ]
  },
  {
   "cell_type": "code",
   "execution_count": 9,
   "metadata": {
    "collapsed": true
   },
   "outputs": [],
   "source": [
    "\n",
    "def import_clean_licences_2012(path):\n",
    "    # import\n",
    "    t_licences = pd.read_csv(path, sep=\";\", quotechar=\"'\", low_memory=False)\n",
    "    t_licences.rename(columns={\"l_30_44__2012\": \"l_30_44_2012\"}, inplace=True)\n",
    "    # get libellés des FF\n",
    "    t_licences[\"fed_2012_libelles\"] = t_licences['fed_2012'].apply(apply_sport)\n",
    "    t_licences['poph_75_99_2010'] = [x.replace('\"', '') for x in t_licences[\"poph_75_99_2010\\\"\"]]\n",
    "    # fix invalid string\n",
    "    t_licences[\"\\\"cog2\"] = [x.replace('\"', '') for x in t_licences[\"\\\"cog2\"]]\n",
    "    del t_licences['poph_75_99_2010\\\"']\n",
    "    del t_licences[\"\\\"cog2\"]\n",
    "    # dtypes for pop indicators\n",
    "    starts_with_pop = [x for x in t_licences.columns if x.startswith('pop')]\n",
    "    t_licences.loc[:, t_licences.columns.isin(starts_with_pop)] =\\\n",
    "        t_licences.loc[:, t_licences.columns.isin(starts_with_pop)].convert_objects(convert_numeric=True)\n",
    "    # calculate ratio\n",
    "    l_labels = [x for x in t_licences.columns if x.startswith('l_')][:-3]\n",
    "    pop_labels = [x for x in t_licences.columns if x.startswith('pop')]\n",
    "    for l_lab in l_labels:\n",
    "        for pop_lab in pop_labels:\n",
    "            if (Counter(split_pop(pop_lab)) == Counter(split_l(l_lab))):\n",
    "                t_licences[l_lab + \"_ratio\"] = t_licences[l_lab] / t_licences[pop_lab]\n",
    "            else: \n",
    "                pass\n",
    "    \n",
    "    return t_licences"
   ]
  },
  {
   "cell_type": "markdown",
   "metadata": {},
   "source": [
    "### Lire le fichier CSV"
   ]
  },
  {
   "cell_type": "code",
   "execution_count": 10,
   "metadata": {
    "collapsed": true
   },
   "outputs": [],
   "source": [
    "path = \"/home/colinfrisch/Documents/Colin/licences_2012.csv\""
   ]
  },
  {
   "cell_type": "code",
   "execution_count": 11,
   "metadata": {
    "collapsed": false
   },
   "outputs": [
    {
     "name": "stderr",
     "output_type": "stream",
     "text": [
      "/usr/local/lib/python3.4/dist-packages/ipykernel/__main__.py:15: FutureWarning: convert_objects is deprecated.  Use the data-type specific converters pd.to_datetime, pd.to_timedelta and pd.to_numeric.\n"
     ]
    }
   ],
   "source": [
    "t_licences = import_clean_licences_2012(path)"
   ]
  },
  {
   "cell_type": "code",
   "execution_count": 12,
   "metadata": {
    "collapsed": false
   },
   "outputs": [
    {
     "ename": "NameError",
     "evalue": "name 't_li' is not defined",
     "output_type": "error",
     "traceback": [
      "\u001b[1;31m---------------------------------------------------------------------------\u001b[0m",
      "\u001b[1;31mNameError\u001b[0m                                 Traceback (most recent call last)",
      "\u001b[1;32m<ipython-input-12-c88704c003e4>\u001b[0m in \u001b[0;36m<module>\u001b[1;34m()\u001b[0m\n\u001b[1;32m----> 1\u001b[1;33m \u001b[0mt_li\u001b[0m\u001b[1;33m\u001b[0m\u001b[0m\n\u001b[0m",
      "\u001b[1;31mNameError\u001b[0m: name 't_li' is not defined"
     ]
    }
   ],
   "source": [
    "t_li"
   ]
  },
  {
   "cell_type": "code",
   "execution_count": 13,
   "metadata": {
    "collapsed": false
   },
   "outputs": [
    {
     "data": {
      "text/html": [
       "<div>\n",
       "<table border=\"1\" class=\"dataframe\">\n",
       "  <thead>\n",
       "    <tr style=\"text-align: right;\">\n",
       "      <th></th>\n",
       "      <th>LIBELLE</th>\n",
       "      <th>fed_2012</th>\n",
       "      <th>l_2012</th>\n",
       "      <th>l_0_4_2012</th>\n",
       "      <th>l_5_9_2012</th>\n",
       "      <th>l_10_14_2012</th>\n",
       "      <th>l_15_19_2012</th>\n",
       "      <th>l_20_29_2012</th>\n",
       "      <th>l_30_44_2012</th>\n",
       "      <th>l_45_59_2012</th>\n",
       "      <th>...</th>\n",
       "      <th>l_h_2012_ratio</th>\n",
       "      <th>l_0_4_h_2012_ratio</th>\n",
       "      <th>l_5_9_h_2012_ratio</th>\n",
       "      <th>l_10_14_h_2012_ratio</th>\n",
       "      <th>l_15_19_h_2012_ratio</th>\n",
       "      <th>l_20_29_h_2012_ratio</th>\n",
       "      <th>l_30_44_h_2012_ratio</th>\n",
       "      <th>l_45_59_h_2012_ratio</th>\n",
       "      <th>l_60_74_h_2012_ratio</th>\n",
       "      <th>l_75_99_h_2012_ratio</th>\n",
       "    </tr>\n",
       "  </thead>\n",
       "  <tbody>\n",
       "    <tr>\n",
       "      <th>0</th>\n",
       "      <td>ABERGEMENT-CLEMENCIAT</td>\n",
       "      <td>101</td>\n",
       "      <td>9</td>\n",
       "      <td>0</td>\n",
       "      <td>0</td>\n",
       "      <td>9</td>\n",
       "      <td>0</td>\n",
       "      <td>0</td>\n",
       "      <td>0</td>\n",
       "      <td>0</td>\n",
       "      <td>...</td>\n",
       "      <td>0.012438</td>\n",
       "      <td>0.0</td>\n",
       "      <td>0.000000</td>\n",
       "      <td>0.178571</td>\n",
       "      <td>0.0</td>\n",
       "      <td>0.000000</td>\n",
       "      <td>0.000000</td>\n",
       "      <td>0.000000</td>\n",
       "      <td>0.0</td>\n",
       "      <td>0.0</td>\n",
       "    </tr>\n",
       "    <tr>\n",
       "      <th>1</th>\n",
       "      <td>ABERGEMENT-CLEMENCIAT</td>\n",
       "      <td>103</td>\n",
       "      <td>4</td>\n",
       "      <td>0</td>\n",
       "      <td>2</td>\n",
       "      <td>0</td>\n",
       "      <td>0</td>\n",
       "      <td>0</td>\n",
       "      <td>1</td>\n",
       "      <td>1</td>\n",
       "      <td>...</td>\n",
       "      <td>0.009950</td>\n",
       "      <td>0.0</td>\n",
       "      <td>0.055556</td>\n",
       "      <td>0.000000</td>\n",
       "      <td>0.0</td>\n",
       "      <td>0.000000</td>\n",
       "      <td>0.011364</td>\n",
       "      <td>0.013158</td>\n",
       "      <td>0.0</td>\n",
       "      <td>0.0</td>\n",
       "    </tr>\n",
       "    <tr>\n",
       "      <th>2</th>\n",
       "      <td>ABERGEMENT-CLEMENCIAT</td>\n",
       "      <td>105</td>\n",
       "      <td>1</td>\n",
       "      <td>0</td>\n",
       "      <td>0</td>\n",
       "      <td>1</td>\n",
       "      <td>0</td>\n",
       "      <td>0</td>\n",
       "      <td>0</td>\n",
       "      <td>0</td>\n",
       "      <td>...</td>\n",
       "      <td>0.002488</td>\n",
       "      <td>0.0</td>\n",
       "      <td>0.000000</td>\n",
       "      <td>0.035714</td>\n",
       "      <td>0.0</td>\n",
       "      <td>0.000000</td>\n",
       "      <td>0.000000</td>\n",
       "      <td>0.000000</td>\n",
       "      <td>0.0</td>\n",
       "      <td>0.0</td>\n",
       "    </tr>\n",
       "    <tr>\n",
       "      <th>3</th>\n",
       "      <td>ABERGEMENT-CLEMENCIAT</td>\n",
       "      <td>108</td>\n",
       "      <td>1</td>\n",
       "      <td>0</td>\n",
       "      <td>0</td>\n",
       "      <td>0</td>\n",
       "      <td>0</td>\n",
       "      <td>1</td>\n",
       "      <td>0</td>\n",
       "      <td>0</td>\n",
       "      <td>...</td>\n",
       "      <td>0.002488</td>\n",
       "      <td>0.0</td>\n",
       "      <td>0.000000</td>\n",
       "      <td>0.000000</td>\n",
       "      <td>0.0</td>\n",
       "      <td>0.027778</td>\n",
       "      <td>0.000000</td>\n",
       "      <td>0.000000</td>\n",
       "      <td>0.0</td>\n",
       "      <td>0.0</td>\n",
       "    </tr>\n",
       "    <tr>\n",
       "      <th>4</th>\n",
       "      <td>ABERGEMENT-CLEMENCIAT</td>\n",
       "      <td>109</td>\n",
       "      <td>13</td>\n",
       "      <td>0</td>\n",
       "      <td>3</td>\n",
       "      <td>4</td>\n",
       "      <td>2</td>\n",
       "      <td>0</td>\n",
       "      <td>1</td>\n",
       "      <td>3</td>\n",
       "      <td>...</td>\n",
       "      <td>0.007463</td>\n",
       "      <td>0.0</td>\n",
       "      <td>0.027778</td>\n",
       "      <td>0.000000</td>\n",
       "      <td>0.0</td>\n",
       "      <td>0.000000</td>\n",
       "      <td>0.000000</td>\n",
       "      <td>0.026316</td>\n",
       "      <td>0.0</td>\n",
       "      <td>0.0</td>\n",
       "    </tr>\n",
       "  </tbody>\n",
       "</table>\n",
       "<p>5 rows × 96 columns</p>\n",
       "</div>"
      ],
      "text/plain": [
       "                 LIBELLE  fed_2012  l_2012  l_0_4_2012  l_5_9_2012  \\\n",
       "0  ABERGEMENT-CLEMENCIAT       101       9           0           0   \n",
       "1  ABERGEMENT-CLEMENCIAT       103       4           0           2   \n",
       "2  ABERGEMENT-CLEMENCIAT       105       1           0           0   \n",
       "3  ABERGEMENT-CLEMENCIAT       108       1           0           0   \n",
       "4  ABERGEMENT-CLEMENCIAT       109      13           0           3   \n",
       "\n",
       "   l_10_14_2012  l_15_19_2012  l_20_29_2012  l_30_44_2012  l_45_59_2012  \\\n",
       "0             9             0             0             0             0   \n",
       "1             0             0             0             1             1   \n",
       "2             1             0             0             0             0   \n",
       "3             0             0             1             0             0   \n",
       "4             4             2             0             1             3   \n",
       "\n",
       "           ...           l_h_2012_ratio  l_0_4_h_2012_ratio  \\\n",
       "0          ...                 0.012438                 0.0   \n",
       "1          ...                 0.009950                 0.0   \n",
       "2          ...                 0.002488                 0.0   \n",
       "3          ...                 0.002488                 0.0   \n",
       "4          ...                 0.007463                 0.0   \n",
       "\n",
       "   l_5_9_h_2012_ratio  l_10_14_h_2012_ratio  l_15_19_h_2012_ratio  \\\n",
       "0            0.000000              0.178571                   0.0   \n",
       "1            0.055556              0.000000                   0.0   \n",
       "2            0.000000              0.035714                   0.0   \n",
       "3            0.000000              0.000000                   0.0   \n",
       "4            0.027778              0.000000                   0.0   \n",
       "\n",
       "   l_20_29_h_2012_ratio  l_30_44_h_2012_ratio  l_45_59_h_2012_ratio  \\\n",
       "0              0.000000              0.000000              0.000000   \n",
       "1              0.000000              0.011364              0.013158   \n",
       "2              0.000000              0.000000              0.000000   \n",
       "3              0.027778              0.000000              0.000000   \n",
       "4              0.000000              0.000000              0.026316   \n",
       "\n",
       "   l_60_74_h_2012_ratio  l_75_99_h_2012_ratio  \n",
       "0                   0.0                   0.0  \n",
       "1                   0.0                   0.0  \n",
       "2                   0.0                   0.0  \n",
       "3                   0.0                   0.0  \n",
       "4                   0.0                   0.0  \n",
       "\n",
       "[5 rows x 96 columns]"
      ]
     },
     "execution_count": 13,
     "metadata": {},
     "output_type": "execute_result"
    }
   ],
   "source": [
    "t_licences.head()"
   ]
  },
  {
   "cell_type": "code",
   "execution_count": 14,
   "metadata": {
    "collapsed": true
   },
   "outputs": [
    {
     "data": {
      "text/plain": [
       "Index(['LIBELLE', 'fed_2012', 'l_2012', 'l_0_4_2012', 'l_5_9_2012',\n",
       "       'l_10_14_2012', 'l_15_19_2012', 'l_20_29_2012', 'l_30_44_2012',\n",
       "       'l_45_59_2012', 'l_60_74_2012', 'l_75_99_2012', 'l_f_2012',\n",
       "       'l_0_4_f_2012', 'l_5_9_f_2012', 'l_10_14_f_2012', 'l_15_19_f_2012',\n",
       "       'l_20_29_f_2012', 'l_30_44_f_2012', 'l_45_59_f_2012', 'l_60_74_f_2012',\n",
       "       'l_75_99_f_2012', 'l_h_2012', 'l_0_4_h_2012', 'l_5_9_h_2012',\n",
       "       'l_10_14_h_2012', 'l_15_19_h_2012', 'l_20_29_h_2012', 'l_30_44_h_2012',\n",
       "       'l_45_59_h_2012', 'l_60_74_h_2012', 'l_75_99_h_2012', 'l_zus_2012',\n",
       "       'l_zus_f_2012', 'l_zus_h_2012', 'pop_2010', 'pop_0_4_2010',\n",
       "       'pop_5_9_2010', 'pop_10_14_2010', 'pop_15_19_2010', 'pop_20_29_2010',\n",
       "       'pop_30_44_2010', 'pop_45_59_2010', 'pop_60_74_2010', 'pop_75_99_2010',\n",
       "       'popf_2010', 'popf_0_4_2010', 'popf_5_9_2010', 'popf_10_14_2010',\n",
       "       'popf_15_19_2010', 'popf_20_29_2010', 'popf_30_44_2010',\n",
       "       'popf_45_59_2010', 'popf_60_74_2010', 'popf_75_99_2010', 'poph_2010',\n",
       "       'poph_0_4_2010', 'poph_5_9_2010', 'poph_10_14_2010', 'poph_15_19_2010',\n",
       "       'poph_20_29_2010', 'poph_30_44_2010', 'poph_45_59_2010',\n",
       "       'poph_60_74_2010', 'fed_2012_libelles', 'poph_75_99_2010',\n",
       "       'l_2012_ratio', 'l_0_4_2012_ratio', 'l_5_9_2012_ratio',\n",
       "       'l_10_14_2012_ratio', 'l_15_19_2012_ratio', 'l_20_29_2012_ratio',\n",
       "       'l_30_44_2012_ratio', 'l_45_59_2012_ratio', 'l_60_74_2012_ratio',\n",
       "       'l_75_99_2012_ratio', 'l_f_2012_ratio', 'l_0_4_f_2012_ratio',\n",
       "       'l_5_9_f_2012_ratio', 'l_10_14_f_2012_ratio', 'l_15_19_f_2012_ratio',\n",
       "       'l_20_29_f_2012_ratio', 'l_30_44_f_2012_ratio', 'l_45_59_f_2012_ratio',\n",
       "       'l_60_74_f_2012_ratio', 'l_75_99_f_2012_ratio', 'l_h_2012_ratio',\n",
       "       'l_0_4_h_2012_ratio', 'l_5_9_h_2012_ratio', 'l_10_14_h_2012_ratio',\n",
       "       'l_15_19_h_2012_ratio', 'l_20_29_h_2012_ratio', 'l_30_44_h_2012_ratio',\n",
       "       'l_45_59_h_2012_ratio', 'l_60_74_h_2012_ratio', 'l_75_99_h_2012_ratio'],\n",
       "      dtype='object')"
      ]
     },
     "execution_count": 14,
     "metadata": {},
     "output_type": "execute_result"
    }
   ],
   "source": [
    "t_licences.columns"
   ]
  },
  {
   "cell_type": "markdown",
   "metadata": {},
   "source": [
    "# Seulement la licence Taekwondo"
   ]
  },
  {
   "cell_type": "code",
   "execution_count": 132,
   "metadata": {
    "collapsed": false,
    "scrolled": true
   },
   "outputs": [
    {
     "data": {
      "text/html": [
       "<div>\n",
       "<table border=\"1\" class=\"dataframe\">\n",
       "  <thead>\n",
       "    <tr style=\"text-align: right;\">\n",
       "      <th></th>\n",
       "      <th>LIBELLE</th>\n",
       "      <th>fed_2012</th>\n",
       "      <th>l_2012</th>\n",
       "      <th>l_0_4_2012</th>\n",
       "      <th>l_5_9_2012</th>\n",
       "      <th>l_10_14_2012</th>\n",
       "      <th>l_15_19_2012</th>\n",
       "      <th>l_20_29_2012</th>\n",
       "      <th>l_30_44_2012</th>\n",
       "      <th>l_45_59_2012</th>\n",
       "      <th>...</th>\n",
       "      <th>l_5_9_h_2012_ratio</th>\n",
       "      <th>l_10_14_h_2012_ratio</th>\n",
       "      <th>l_15_19_h_2012_ratio</th>\n",
       "      <th>l_20_29_h_2012_ratio</th>\n",
       "      <th>l_30_44_h_2012_ratio</th>\n",
       "      <th>l_45_59_h_2012_ratio</th>\n",
       "      <th>l_60_74_h_2012_ratio</th>\n",
       "      <th>l_75_99_h_2012_ratio</th>\n",
       "      <th>hsurf</th>\n",
       "      <th>t_prop</th>\n",
       "    </tr>\n",
       "  </thead>\n",
       "  <tbody>\n",
       "    <tr>\n",
       "      <th>1</th>\n",
       "      <td>ABERGEMENT-CLEMENCIAT</td>\n",
       "      <td>103</td>\n",
       "      <td>4</td>\n",
       "      <td>0</td>\n",
       "      <td>2</td>\n",
       "      <td>0</td>\n",
       "      <td>0</td>\n",
       "      <td>0</td>\n",
       "      <td>1</td>\n",
       "      <td>1</td>\n",
       "      <td>...</td>\n",
       "      <td>0.055556</td>\n",
       "      <td>0.000000</td>\n",
       "      <td>0.000000</td>\n",
       "      <td>0.000000</td>\n",
       "      <td>0.011364</td>\n",
       "      <td>0.013158</td>\n",
       "      <td>0.000000</td>\n",
       "      <td>0.0</td>\n",
       "      <td>0.000000</td>\n",
       "      <td>NaN</td>\n",
       "    </tr>\n",
       "    <tr>\n",
       "      <th>50</th>\n",
       "      <td>AMBERIEU-EN-BUGEY</td>\n",
       "      <td>103</td>\n",
       "      <td>71</td>\n",
       "      <td>0</td>\n",
       "      <td>5</td>\n",
       "      <td>16</td>\n",
       "      <td>11</td>\n",
       "      <td>19</td>\n",
       "      <td>16</td>\n",
       "      <td>2</td>\n",
       "      <td>...</td>\n",
       "      <td>0.008230</td>\n",
       "      <td>0.020101</td>\n",
       "      <td>0.018450</td>\n",
       "      <td>0.009395</td>\n",
       "      <td>0.006329</td>\n",
       "      <td>0.000778</td>\n",
       "      <td>0.002488</td>\n",
       "      <td>0.0</td>\n",
       "      <td>39.436620</td>\n",
       "      <td>NaN</td>\n",
       "    </tr>\n",
       "    <tr>\n",
       "      <th>158</th>\n",
       "      <td>AMBRONAY</td>\n",
       "      <td>103</td>\n",
       "      <td>10</td>\n",
       "      <td>0</td>\n",
       "      <td>1</td>\n",
       "      <td>1</td>\n",
       "      <td>0</td>\n",
       "      <td>4</td>\n",
       "      <td>3</td>\n",
       "      <td>1</td>\n",
       "      <td>...</td>\n",
       "      <td>0.010417</td>\n",
       "      <td>0.019231</td>\n",
       "      <td>0.000000</td>\n",
       "      <td>0.028302</td>\n",
       "      <td>0.003704</td>\n",
       "      <td>0.000000</td>\n",
       "      <td>0.000000</td>\n",
       "      <td>0.0</td>\n",
       "      <td>40.000000</td>\n",
       "      <td>NaN</td>\n",
       "    </tr>\n",
       "    <tr>\n",
       "      <th>208</th>\n",
       "      <td>AMBUTRIX</td>\n",
       "      <td>103</td>\n",
       "      <td>6</td>\n",
       "      <td>0</td>\n",
       "      <td>0</td>\n",
       "      <td>2</td>\n",
       "      <td>1</td>\n",
       "      <td>1</td>\n",
       "      <td>2</td>\n",
       "      <td>0</td>\n",
       "      <td>...</td>\n",
       "      <td>0.000000</td>\n",
       "      <td>0.027778</td>\n",
       "      <td>0.032258</td>\n",
       "      <td>0.000000</td>\n",
       "      <td>0.000000</td>\n",
       "      <td>0.000000</td>\n",
       "      <td>0.000000</td>\n",
       "      <td>0.0</td>\n",
       "      <td>66.666667</td>\n",
       "      <td>NaN</td>\n",
       "    </tr>\n",
       "    <tr>\n",
       "      <th>242</th>\n",
       "      <td>ANDERT-ET-CONDON</td>\n",
       "      <td>103</td>\n",
       "      <td>1</td>\n",
       "      <td>0</td>\n",
       "      <td>0</td>\n",
       "      <td>1</td>\n",
       "      <td>0</td>\n",
       "      <td>0</td>\n",
       "      <td>0</td>\n",
       "      <td>0</td>\n",
       "      <td>...</td>\n",
       "      <td>0.000000</td>\n",
       "      <td>inf</td>\n",
       "      <td>0.000000</td>\n",
       "      <td>0.000000</td>\n",
       "      <td>0.000000</td>\n",
       "      <td>0.000000</td>\n",
       "      <td>0.000000</td>\n",
       "      <td>0.0</td>\n",
       "      <td>0.000000</td>\n",
       "      <td>NaN</td>\n",
       "    </tr>\n",
       "    <tr>\n",
       "      <th>292</th>\n",
       "      <td>APREMONT</td>\n",
       "      <td>103</td>\n",
       "      <td>2</td>\n",
       "      <td>0</td>\n",
       "      <td>0</td>\n",
       "      <td>2</td>\n",
       "      <td>0</td>\n",
       "      <td>0</td>\n",
       "      <td>0</td>\n",
       "      <td>0</td>\n",
       "      <td>...</td>\n",
       "      <td>0.000000</td>\n",
       "      <td>0.000000</td>\n",
       "      <td>0.000000</td>\n",
       "      <td>0.000000</td>\n",
       "      <td>0.000000</td>\n",
       "      <td>0.000000</td>\n",
       "      <td>0.000000</td>\n",
       "      <td>0.0</td>\n",
       "      <td>100.000000</td>\n",
       "      <td>NaN</td>\n",
       "    </tr>\n",
       "    <tr>\n",
       "      <th>333</th>\n",
       "      <td>ARBENT</td>\n",
       "      <td>103</td>\n",
       "      <td>6</td>\n",
       "      <td>0</td>\n",
       "      <td>0</td>\n",
       "      <td>3</td>\n",
       "      <td>2</td>\n",
       "      <td>0</td>\n",
       "      <td>1</td>\n",
       "      <td>0</td>\n",
       "      <td>...</td>\n",
       "      <td>0.000000</td>\n",
       "      <td>0.011236</td>\n",
       "      <td>0.017699</td>\n",
       "      <td>0.000000</td>\n",
       "      <td>0.003012</td>\n",
       "      <td>0.000000</td>\n",
       "      <td>0.000000</td>\n",
       "      <td>0.0</td>\n",
       "      <td>16.666667</td>\n",
       "      <td>NaN</td>\n",
       "    </tr>\n",
       "    <tr>\n",
       "      <th>377</th>\n",
       "      <td>ARBIGNIEU</td>\n",
       "      <td>103</td>\n",
       "      <td>4</td>\n",
       "      <td>0</td>\n",
       "      <td>0</td>\n",
       "      <td>1</td>\n",
       "      <td>1</td>\n",
       "      <td>2</td>\n",
       "      <td>0</td>\n",
       "      <td>0</td>\n",
       "      <td>...</td>\n",
       "      <td>0.000000</td>\n",
       "      <td>0.083333</td>\n",
       "      <td>0.125000</td>\n",
       "      <td>0.062500</td>\n",
       "      <td>0.000000</td>\n",
       "      <td>0.000000</td>\n",
       "      <td>0.000000</td>\n",
       "      <td>0.0</td>\n",
       "      <td>0.000000</td>\n",
       "      <td>NaN</td>\n",
       "    </tr>\n",
       "    <tr>\n",
       "      <th>439</th>\n",
       "      <td>ARS-SUR-FORMANS</td>\n",
       "      <td>103</td>\n",
       "      <td>3</td>\n",
       "      <td>0</td>\n",
       "      <td>0</td>\n",
       "      <td>0</td>\n",
       "      <td>0</td>\n",
       "      <td>1</td>\n",
       "      <td>1</td>\n",
       "      <td>1</td>\n",
       "      <td>...</td>\n",
       "      <td>0.000000</td>\n",
       "      <td>0.000000</td>\n",
       "      <td>0.000000</td>\n",
       "      <td>0.009901</td>\n",
       "      <td>0.005618</td>\n",
       "      <td>0.008696</td>\n",
       "      <td>0.000000</td>\n",
       "      <td>0.0</td>\n",
       "      <td>0.000000</td>\n",
       "      <td>NaN</td>\n",
       "    </tr>\n",
       "    <tr>\n",
       "      <th>478</th>\n",
       "      <td>ARTEMARE</td>\n",
       "      <td>103</td>\n",
       "      <td>2</td>\n",
       "      <td>0</td>\n",
       "      <td>0</td>\n",
       "      <td>0</td>\n",
       "      <td>1</td>\n",
       "      <td>1</td>\n",
       "      <td>0</td>\n",
       "      <td>0</td>\n",
       "      <td>...</td>\n",
       "      <td>0.000000</td>\n",
       "      <td>0.000000</td>\n",
       "      <td>0.000000</td>\n",
       "      <td>0.000000</td>\n",
       "      <td>0.000000</td>\n",
       "      <td>0.000000</td>\n",
       "      <td>0.000000</td>\n",
       "      <td>0.0</td>\n",
       "      <td>100.000000</td>\n",
       "      <td>NaN</td>\n",
       "    </tr>\n",
       "  </tbody>\n",
       "</table>\n",
       "<p>10 rows × 98 columns</p>\n",
       "</div>"
      ],
      "text/plain": [
       "                   LIBELLE  fed_2012  l_2012  l_0_4_2012  l_5_9_2012  \\\n",
       "1    ABERGEMENT-CLEMENCIAT       103       4           0           2   \n",
       "50       AMBERIEU-EN-BUGEY       103      71           0           5   \n",
       "158               AMBRONAY       103      10           0           1   \n",
       "208               AMBUTRIX       103       6           0           0   \n",
       "242       ANDERT-ET-CONDON       103       1           0           0   \n",
       "292               APREMONT       103       2           0           0   \n",
       "333                 ARBENT       103       6           0           0   \n",
       "377              ARBIGNIEU       103       4           0           0   \n",
       "439        ARS-SUR-FORMANS       103       3           0           0   \n",
       "478               ARTEMARE       103       2           0           0   \n",
       "\n",
       "     l_10_14_2012  l_15_19_2012  l_20_29_2012  l_30_44_2012  l_45_59_2012  \\\n",
       "1               0             0             0             1             1   \n",
       "50             16            11            19            16             2   \n",
       "158             1             0             4             3             1   \n",
       "208             2             1             1             2             0   \n",
       "242             1             0             0             0             0   \n",
       "292             2             0             0             0             0   \n",
       "333             3             2             0             1             0   \n",
       "377             1             1             2             0             0   \n",
       "439             0             0             1             1             1   \n",
       "478             0             1             1             0             0   \n",
       "\n",
       "      ...    l_5_9_h_2012_ratio  l_10_14_h_2012_ratio  l_15_19_h_2012_ratio  \\\n",
       "1     ...              0.055556              0.000000              0.000000   \n",
       "50    ...              0.008230              0.020101              0.018450   \n",
       "158   ...              0.010417              0.019231              0.000000   \n",
       "208   ...              0.000000              0.027778              0.032258   \n",
       "242   ...              0.000000                   inf              0.000000   \n",
       "292   ...              0.000000              0.000000              0.000000   \n",
       "333   ...              0.000000              0.011236              0.017699   \n",
       "377   ...              0.000000              0.083333              0.125000   \n",
       "439   ...              0.000000              0.000000              0.000000   \n",
       "478   ...              0.000000              0.000000              0.000000   \n",
       "\n",
       "     l_20_29_h_2012_ratio  l_30_44_h_2012_ratio  l_45_59_h_2012_ratio  \\\n",
       "1                0.000000              0.011364              0.013158   \n",
       "50               0.009395              0.006329              0.000778   \n",
       "158              0.028302              0.003704              0.000000   \n",
       "208              0.000000              0.000000              0.000000   \n",
       "242              0.000000              0.000000              0.000000   \n",
       "292              0.000000              0.000000              0.000000   \n",
       "333              0.000000              0.003012              0.000000   \n",
       "377              0.062500              0.000000              0.000000   \n",
       "439              0.009901              0.005618              0.008696   \n",
       "478              0.000000              0.000000              0.000000   \n",
       "\n",
       "     l_60_74_h_2012_ratio  l_75_99_h_2012_ratio       hsurf  t_prop  \n",
       "1                0.000000                   0.0    0.000000     NaN  \n",
       "50               0.002488                   0.0   39.436620     NaN  \n",
       "158              0.000000                   0.0   40.000000     NaN  \n",
       "208              0.000000                   0.0   66.666667     NaN  \n",
       "242              0.000000                   0.0    0.000000     NaN  \n",
       "292              0.000000                   0.0  100.000000     NaN  \n",
       "333              0.000000                   0.0   16.666667     NaN  \n",
       "377              0.000000                   0.0    0.000000     NaN  \n",
       "439              0.000000                   0.0    0.000000     NaN  \n",
       "478              0.000000                   0.0  100.000000     NaN  \n",
       "\n",
       "[10 rows x 98 columns]"
      ]
     },
     "execution_count": 132,
     "metadata": {},
     "output_type": "execute_result"
    }
   ],
   "source": [
    "t_licences.loc(\"fed_2012_libelles\")[t_licences[\"fed_2012\"] == 103].head(10)"
   ]
  },
  {
   "cell_type": "markdown",
   "metadata": {},
   "source": [
    "Je fais ici en sorte de ne voir que les 10 premières communes (dans l'ordre alphabetique) qui ont des données sur le taekwondo. Il y a dans ce tableau toutes les informations que l'Etat detient sur les licences de teakwondo en 2012 : âge (de quel âge a quel âge), sexe, commune de résidense..."
   ]
  },
  {
   "cell_type": "markdown",
   "metadata": {},
   "source": [
    "### Quels sports pratique-t-on le plus en France ?"
   ]
  },
  {
   "cell_type": "code",
   "execution_count": 17,
   "metadata": {
    "collapsed": false
   },
   "outputs": [
    {
     "data": {
      "image/png": "[encoded data removed]",
      "text/plain": [
       "<matplotlib.figure.Figure at 0x7f317906b0f0>"
      ]
     },
     "metadata": {},
     "output_type": "display_data"
    }
   ],
   "source": [
    "t_licences.groupby(\"fed_2012_libelles\")[\"l_2012\"].sum().sort_values(ascending=False).head(20).plot(figsize=(15, 10),\n",
    "                                                                                                   kind='barh',\n",
    "                                                                                                   color=\"purple\",\n",
    "                                                                                                    alpha=0.6)\n",
    "plt.gca().invert_yaxis()"
   ]
  },
  {
   "cell_type": "markdown",
   "metadata": {},
   "source": [
    "J'ai pu voir grâce à ce graphique que le sport le plus pratiqué en france (avec license) est le football. Mais j'ai aussi pu étudier les 20 suivants grâce à une commande : je peux faire varier le nombre de résultats que je veux."
   ]
  },
  {
   "cell_type": "markdown",
   "metadata": {},
   "source": [
    "### Dans quelle(s) commune(s) préfère-t-on le taekwondo ?"
   ]
  },
  {
   "cell_type": "code",
   "execution_count": 18,
   "metadata": {
    "collapsed": false,
    "scrolled": false
   },
   "outputs": [
    {
     "data": {
      "image/png": "[encoded data removed]",
      "text/plain": [
       "<matplotlib.figure.Figure at 0x7f317906b6d8>"
      ]
     },
     "metadata": {},
     "output_type": "display_data"
    }
   ],
   "source": [
    "communes_taekwondo = t_licences.loc[t_licences[\"fed_2012\"] == 103][['LIBELLE', 'l_2012_ratio']].sort_values(by=\"l_2012_ratio\", ascending=False)\n",
    "\n",
    "\n",
    "communes_taekwondo.head(50).plot(x=\"LIBELLE\", y=\"l_2012_ratio\", kind='barh', color='orange', figsize=(15, 10))\n",
    "plt.gca().invert_yaxis()\n"
   ]
  },
  {
   "cell_type": "code",
   "execution_count": 19,
   "metadata": {
    "collapsed": false
   },
   "outputs": [
    {
     "data": {
      "text/html": [
       "<div>\n",
       "<table border=\"1\" class=\"dataframe\">\n",
       "  <thead>\n",
       "    <tr style=\"text-align: right;\">\n",
       "      <th></th>\n",
       "      <th>LIBELLE</th>\n",
       "      <th>fed_2012</th>\n",
       "      <th>l_2012</th>\n",
       "      <th>pop_2010</th>\n",
       "    </tr>\n",
       "  </thead>\n",
       "  <tbody>\n",
       "    <tr>\n",
       "      <th>543430</th>\n",
       "      <td>SENLIS</td>\n",
       "      <td>103</td>\n",
       "      <td>78</td>\n",
       "      <td>174.0</td>\n",
       "    </tr>\n",
       "  </tbody>\n",
       "</table>\n",
       "</div>"
      ],
      "text/plain": [
       "       LIBELLE  fed_2012  l_2012  pop_2010\n",
       "543430  SENLIS       103      78     174.0"
      ]
     },
     "execution_count": 19,
     "metadata": {},
     "output_type": "execute_result"
    }
   ],
   "source": [
    "t_licences.loc[(t_licences[\"fed_2012\"] == 103) & (t_licences[\"LIBELLE\"] == \"SENLIS\")][[\"LIBELLE\",\n",
    "                                                                                       \"fed_2012\",\n",
    "                                                                                       \"l_2012\",\n",
    "                                                                                       \"pop_2010\"]]"
   ]
  },
  {
   "cell_type": "code",
   "execution_count": 20,
   "metadata": {
    "collapsed": false,
    "scrolled": true
   },
   "outputs": [
    {
     "data": {
      "text/html": [
       "<div>\n",
       "<table border=\"1\" class=\"dataframe\">\n",
       "  <thead>\n",
       "    <tr style=\"text-align: right;\">\n",
       "      <th></th>\n",
       "      <th>LIBELLE</th>\n",
       "      <th>fed_2012</th>\n",
       "      <th>l_2012</th>\n",
       "      <th>pop_2010</th>\n",
       "    </tr>\n",
       "  </thead>\n",
       "  <tbody>\n",
       "    <tr>\n",
       "      <th>662595</th>\n",
       "      <td>PARIS</td>\n",
       "      <td>103</td>\n",
       "      <td>3214</td>\n",
       "      <td>2243718.0</td>\n",
       "    </tr>\n",
       "  </tbody>\n",
       "</table>\n",
       "</div>"
      ],
      "text/plain": [
       "       LIBELLE  fed_2012  l_2012   pop_2010\n",
       "662595   PARIS       103    3214  2243718.0"
      ]
     },
     "execution_count": 20,
     "metadata": {},
     "output_type": "execute_result"
    }
   ],
   "source": [
    "t_licences.loc[(t_licences[\"fed_2012\"] == 103) & (t_licences[\"LIBELLE\"] == \"PARIS\")][[\"LIBELLE\",\n",
    "                                                                                       \"fed_2012\",\n",
    "                                                                                       \"l_2012\",\n",
    "                                                                                       \"pop_2010\"]]"
   ]
  },
  {
   "cell_type": "markdown",
   "metadata": {},
   "source": [
    "J'ai aussi pu déduire de ce graphique les communes les plus pratiquantes de taekwondo proportionellement au nombre d'habitants. J'ai ensuite fait des recherches sur Senlis (avec la proportionnalité par rapport au nombre d'habitants) puis sur Paris (non proportionnel) en ordonnant au programme de nommer la commune, le numéro de licence de taekwondo, le nombre de personnes licenciés et la population total."
   ]
  },
  {
   "cell_type": "markdown",
   "metadata": {},
   "source": [
    "### Dans quelles(s) commune(s) préfère-t-on le tennis au football ?"
   ]
  },
  {
   "cell_type": "code",
   "execution_count": 21,
   "metadata": {
    "collapsed": true
   },
   "outputs": [
    {
     "ename": "NameError",
     "evalue": "name 'comprf' is not defined",
     "output_type": "error",
     "traceback": [
      "\u001b[1;31m---------------------------------------------------------------------------\u001b[0m",
      "\u001b[1;31mNameError\u001b[0m                                 Traceback (most recent call last)",
      "\u001b[1;32m<ipython-input-21-f9123811b3f1>\u001b[0m in \u001b[0;36m<module>\u001b[1;34m()\u001b[0m\n\u001b[1;32m----> 1\u001b[1;33m \u001b[0mt_licences\u001b[0m\u001b[1;33m[\u001b[0m\u001b[1;33m(\u001b[0m\u001b[0mt_licences\u001b[0m\u001b[1;33m.\u001b[0m\u001b[0mLIBELLE\u001b[0m \u001b[1;33m==\u001b[0m \u001b[1;34m\"ABBARETZ\"\u001b[0m\u001b[1;33m)\u001b[0m \u001b[1;33m&\u001b[0m \u001b[1;33m(\u001b[0m\u001b[0mcomprf\u001b[0m\u001b[1;33m)\u001b[0m\u001b[1;33m]\u001b[0m\u001b[1;33m\u001b[0m\u001b[0m\n\u001b[0m",
      "\u001b[1;31mNameError\u001b[0m: name 'comprf' is not defined"
     ]
    }
   ],
   "source": [
    "t_licences[(t_licences.LIBELLE == \"ABBARETZ\") & (comprf)]"
   ]
  },
  {
   "cell_type": "code",
   "execution_count": 22,
   "metadata": {
    "collapsed": true
   },
   "outputs": [
    {
     "data": {
      "text/html": [
       "<div>\n",
       "<table border=\"1\" class=\"dataframe\">\n",
       "  <thead>\n",
       "    <tr style=\"text-align: right;\">\n",
       "      <th></th>\n",
       "      <th>LIBELLE</th>\n",
       "      <th>fed_2012</th>\n",
       "      <th>l_2012</th>\n",
       "      <th>l_0_4_2012</th>\n",
       "      <th>l_5_9_2012</th>\n",
       "      <th>l_10_14_2012</th>\n",
       "      <th>l_15_19_2012</th>\n",
       "      <th>l_20_29_2012</th>\n",
       "      <th>l_30_44_2012</th>\n",
       "      <th>l_45_59_2012</th>\n",
       "      <th>...</th>\n",
       "      <th>l_h_2012_ratio</th>\n",
       "      <th>l_0_4_h_2012_ratio</th>\n",
       "      <th>l_5_9_h_2012_ratio</th>\n",
       "      <th>l_10_14_h_2012_ratio</th>\n",
       "      <th>l_15_19_h_2012_ratio</th>\n",
       "      <th>l_20_29_h_2012_ratio</th>\n",
       "      <th>l_30_44_h_2012_ratio</th>\n",
       "      <th>l_45_59_h_2012_ratio</th>\n",
       "      <th>l_60_74_h_2012_ratio</th>\n",
       "      <th>l_75_99_h_2012_ratio</th>\n",
       "    </tr>\n",
       "  </thead>\n",
       "  <tbody>\n",
       "    <tr>\n",
       "      <th>0</th>\n",
       "      <td>ABERGEMENT-CLEMENCIAT</td>\n",
       "      <td>101</td>\n",
       "      <td>9</td>\n",
       "      <td>0</td>\n",
       "      <td>0</td>\n",
       "      <td>9</td>\n",
       "      <td>0</td>\n",
       "      <td>0</td>\n",
       "      <td>0</td>\n",
       "      <td>0</td>\n",
       "      <td>...</td>\n",
       "      <td>0.012438</td>\n",
       "      <td>0.0</td>\n",
       "      <td>0.000000</td>\n",
       "      <td>0.178571</td>\n",
       "      <td>0.0</td>\n",
       "      <td>0.000000</td>\n",
       "      <td>0.000000</td>\n",
       "      <td>0.000000</td>\n",
       "      <td>0.0</td>\n",
       "      <td>0.0</td>\n",
       "    </tr>\n",
       "    <tr>\n",
       "      <th>1</th>\n",
       "      <td>ABERGEMENT-CLEMENCIAT</td>\n",
       "      <td>103</td>\n",
       "      <td>4</td>\n",
       "      <td>0</td>\n",
       "      <td>2</td>\n",
       "      <td>0</td>\n",
       "      <td>0</td>\n",
       "      <td>0</td>\n",
       "      <td>1</td>\n",
       "      <td>1</td>\n",
       "      <td>...</td>\n",
       "      <td>0.009950</td>\n",
       "      <td>0.0</td>\n",
       "      <td>0.055556</td>\n",
       "      <td>0.000000</td>\n",
       "      <td>0.0</td>\n",
       "      <td>0.000000</td>\n",
       "      <td>0.011364</td>\n",
       "      <td>0.013158</td>\n",
       "      <td>0.0</td>\n",
       "      <td>0.0</td>\n",
       "    </tr>\n",
       "    <tr>\n",
       "      <th>2</th>\n",
       "      <td>ABERGEMENT-CLEMENCIAT</td>\n",
       "      <td>105</td>\n",
       "      <td>1</td>\n",
       "      <td>0</td>\n",
       "      <td>0</td>\n",
       "      <td>1</td>\n",
       "      <td>0</td>\n",
       "      <td>0</td>\n",
       "      <td>0</td>\n",
       "      <td>0</td>\n",
       "      <td>...</td>\n",
       "      <td>0.002488</td>\n",
       "      <td>0.0</td>\n",
       "      <td>0.000000</td>\n",
       "      <td>0.035714</td>\n",
       "      <td>0.0</td>\n",
       "      <td>0.000000</td>\n",
       "      <td>0.000000</td>\n",
       "      <td>0.000000</td>\n",
       "      <td>0.0</td>\n",
       "      <td>0.0</td>\n",
       "    </tr>\n",
       "    <tr>\n",
       "      <th>3</th>\n",
       "      <td>ABERGEMENT-CLEMENCIAT</td>\n",
       "      <td>108</td>\n",
       "      <td>1</td>\n",
       "      <td>0</td>\n",
       "      <td>0</td>\n",
       "      <td>0</td>\n",
       "      <td>0</td>\n",
       "      <td>1</td>\n",
       "      <td>0</td>\n",
       "      <td>0</td>\n",
       "      <td>...</td>\n",
       "      <td>0.002488</td>\n",
       "      <td>0.0</td>\n",
       "      <td>0.000000</td>\n",
       "      <td>0.000000</td>\n",
       "      <td>0.0</td>\n",
       "      <td>0.027778</td>\n",
       "      <td>0.000000</td>\n",
       "      <td>0.000000</td>\n",
       "      <td>0.0</td>\n",
       "      <td>0.0</td>\n",
       "    </tr>\n",
       "    <tr>\n",
       "      <th>4</th>\n",
       "      <td>ABERGEMENT-CLEMENCIAT</td>\n",
       "      <td>109</td>\n",
       "      <td>13</td>\n",
       "      <td>0</td>\n",
       "      <td>3</td>\n",
       "      <td>4</td>\n",
       "      <td>2</td>\n",
       "      <td>0</td>\n",
       "      <td>1</td>\n",
       "      <td>3</td>\n",
       "      <td>...</td>\n",
       "      <td>0.007463</td>\n",
       "      <td>0.0</td>\n",
       "      <td>0.027778</td>\n",
       "      <td>0.000000</td>\n",
       "      <td>0.0</td>\n",
       "      <td>0.000000</td>\n",
       "      <td>0.000000</td>\n",
       "      <td>0.026316</td>\n",
       "      <td>0.0</td>\n",
       "      <td>0.0</td>\n",
       "    </tr>\n",
       "  </tbody>\n",
       "</table>\n",
       "<p>5 rows × 96 columns</p>\n",
       "</div>"
      ],
      "text/plain": [
       "                 LIBELLE  fed_2012  l_2012  l_0_4_2012  l_5_9_2012  \\\n",
       "0  ABERGEMENT-CLEMENCIAT       101       9           0           0   \n",
       "1  ABERGEMENT-CLEMENCIAT       103       4           0           2   \n",
       "2  ABERGEMENT-CLEMENCIAT       105       1           0           0   \n",
       "3  ABERGEMENT-CLEMENCIAT       108       1           0           0   \n",
       "4  ABERGEMENT-CLEMENCIAT       109      13           0           3   \n",
       "\n",
       "   l_10_14_2012  l_15_19_2012  l_20_29_2012  l_30_44_2012  l_45_59_2012  \\\n",
       "0             9             0             0             0             0   \n",
       "1             0             0             0             1             1   \n",
       "2             1             0             0             0             0   \n",
       "3             0             0             1             0             0   \n",
       "4             4             2             0             1             3   \n",
       "\n",
       "           ...           l_h_2012_ratio  l_0_4_h_2012_ratio  \\\n",
       "0          ...                 0.012438                 0.0   \n",
       "1          ...                 0.009950                 0.0   \n",
       "2          ...                 0.002488                 0.0   \n",
       "3          ...                 0.002488                 0.0   \n",
       "4          ...                 0.007463                 0.0   \n",
       "\n",
       "   l_5_9_h_2012_ratio  l_10_14_h_2012_ratio  l_15_19_h_2012_ratio  \\\n",
       "0            0.000000              0.178571                   0.0   \n",
       "1            0.055556              0.000000                   0.0   \n",
       "2            0.000000              0.035714                   0.0   \n",
       "3            0.000000              0.000000                   0.0   \n",
       "4            0.027778              0.000000                   0.0   \n",
       "\n",
       "   l_20_29_h_2012_ratio  l_30_44_h_2012_ratio  l_45_59_h_2012_ratio  \\\n",
       "0              0.000000              0.000000              0.000000   \n",
       "1              0.000000              0.011364              0.013158   \n",
       "2              0.000000              0.000000              0.000000   \n",
       "3              0.027778              0.000000              0.000000   \n",
       "4              0.000000              0.000000              0.026316   \n",
       "\n",
       "   l_60_74_h_2012_ratio  l_75_99_h_2012_ratio  \n",
       "0                   0.0                   0.0  \n",
       "1                   0.0                   0.0  \n",
       "2                   0.0                   0.0  \n",
       "3                   0.0                   0.0  \n",
       "4                   0.0                   0.0  \n",
       "\n",
       "[5 rows x 96 columns]"
      ]
     },
     "execution_count": 22,
     "metadata": {},
     "output_type": "execute_result"
    }
   ],
   "source": [
    "t_licences.head()"
   ]
  },
  {
   "cell_type": "code",
   "execution_count": 139,
   "metadata": {
    "collapsed": false
   },
   "outputs": [],
   "source": [
    "comprf = t_licences[\"fed_2012\"].isin([111, 123])\n",
    "\n",
    "t = t_licences.loc[comprf][[\"LIBELLE\",\n",
    "                        \"l_2012\",\n",
    "                        \"fed_2012_libelles\"]]\n",
    "\n",
    "t2 = t.groupby('LIBELLE')['l_2012'].max().reset_index(name='le_max')\n"
   ]
  },
  {
   "cell_type": "code",
   "execution_count": 140,
   "metadata": {
    "collapsed": true
   },
   "outputs": [
    {
     "data": {
      "text/html": [
       "<div>\n",
       "<table border=\"1\" class=\"dataframe\">\n",
       "  <thead>\n",
       "    <tr style=\"text-align: right;\">\n",
       "      <th></th>\n",
       "      <th>LIBELLE</th>\n",
       "      <th>le_max</th>\n",
       "    </tr>\n",
       "  </thead>\n",
       "  <tbody>\n",
       "    <tr>\n",
       "      <th>0</th>\n",
       "      <td>AAST</td>\n",
       "      <td>3</td>\n",
       "    </tr>\n",
       "    <tr>\n",
       "      <th>1</th>\n",
       "      <td>ABAINVILLE</td>\n",
       "      <td>8</td>\n",
       "    </tr>\n",
       "    <tr>\n",
       "      <th>2</th>\n",
       "      <td>ABANCOURT</td>\n",
       "      <td>19</td>\n",
       "    </tr>\n",
       "    <tr>\n",
       "      <th>3</th>\n",
       "      <td>ABAUCOURT</td>\n",
       "      <td>8</td>\n",
       "    </tr>\n",
       "    <tr>\n",
       "      <th>4</th>\n",
       "      <td>ABAUCOURT-HAUTECOURT</td>\n",
       "      <td>3</td>\n",
       "    </tr>\n",
       "  </tbody>\n",
       "</table>\n",
       "</div>"
      ],
      "text/plain": [
       "                LIBELLE  le_max\n",
       "0                  AAST       3\n",
       "1            ABAINVILLE       8\n",
       "2             ABANCOURT      19\n",
       "3             ABAUCOURT       8\n",
       "4  ABAUCOURT-HAUTECOURT       3"
      ]
     },
     "execution_count": 140,
     "metadata": {},
     "output_type": "execute_result"
    }
   ],
   "source": [
    "t2.head(5)"
   ]
  },
  {
   "cell_type": "code",
   "execution_count": 25,
   "metadata": {
    "collapsed": true
   },
   "outputs": [
    {
     "data": {
      "text/html": [
       "<div>\n",
       "<table border=\"1\" class=\"dataframe\">\n",
       "  <thead>\n",
       "    <tr style=\"text-align: right;\">\n",
       "      <th></th>\n",
       "      <th>LIBELLE</th>\n",
       "      <th>le_max</th>\n",
       "      <th>fed_2012_libelles</th>\n",
       "    </tr>\n",
       "  </thead>\n",
       "  <tbody>\n",
       "    <tr>\n",
       "      <th>0</th>\n",
       "      <td>AAST</td>\n",
       "      <td>3</td>\n",
       "      <td>tennis</td>\n",
       "    </tr>\n",
       "    <tr>\n",
       "      <th>1</th>\n",
       "      <td>ABAINVILLE</td>\n",
       "      <td>8</td>\n",
       "      <td>football</td>\n",
       "    </tr>\n",
       "    <tr>\n",
       "      <th>2</th>\n",
       "      <td>ABANCOURT</td>\n",
       "      <td>19</td>\n",
       "      <td>football</td>\n",
       "    </tr>\n",
       "    <tr>\n",
       "      <th>3</th>\n",
       "      <td>ABAUCOURT</td>\n",
       "      <td>8</td>\n",
       "      <td>football</td>\n",
       "    </tr>\n",
       "    <tr>\n",
       "      <th>4</th>\n",
       "      <td>ABAUCOURT-HAUTECOURT</td>\n",
       "      <td>3</td>\n",
       "      <td>football</td>\n",
       "    </tr>\n",
       "    <tr>\n",
       "      <th>5</th>\n",
       "      <td>ABBANS-DESSOUS</td>\n",
       "      <td>14</td>\n",
       "      <td>football</td>\n",
       "    </tr>\n",
       "    <tr>\n",
       "      <th>6</th>\n",
       "      <td>ABBANS-DESSUS</td>\n",
       "      <td>12</td>\n",
       "      <td>football</td>\n",
       "    </tr>\n",
       "    <tr>\n",
       "      <th>7</th>\n",
       "      <td>ABBARETZ</td>\n",
       "      <td>94</td>\n",
       "      <td>football</td>\n",
       "    </tr>\n",
       "    <tr>\n",
       "      <th>8</th>\n",
       "      <td>ABBECOURT</td>\n",
       "      <td>21</td>\n",
       "      <td>football</td>\n",
       "    </tr>\n",
       "    <tr>\n",
       "      <th>9</th>\n",
       "      <td>ABBENANS</td>\n",
       "      <td>11</td>\n",
       "      <td>football</td>\n",
       "    </tr>\n",
       "    <tr>\n",
       "      <th>10</th>\n",
       "      <td>ABBEVILLE</td>\n",
       "      <td>914</td>\n",
       "      <td>football</td>\n",
       "    </tr>\n",
       "    <tr>\n",
       "      <th>11</th>\n",
       "      <td>ABBEVILLE-LA-RIVIERE</td>\n",
       "      <td>9</td>\n",
       "      <td>tennis</td>\n",
       "    </tr>\n",
       "    <tr>\n",
       "      <th>12</th>\n",
       "      <td>ABBEVILLE-LES-CONFLANS</td>\n",
       "      <td>5</td>\n",
       "      <td>tennis</td>\n",
       "    </tr>\n",
       "    <tr>\n",
       "      <th>13</th>\n",
       "      <td>ABBEVILLE-SAINT-LUCIEN</td>\n",
       "      <td>22</td>\n",
       "      <td>football</td>\n",
       "    </tr>\n",
       "    <tr>\n",
       "      <th>14</th>\n",
       "      <td>ABBEVILLERS</td>\n",
       "      <td>36</td>\n",
       "      <td>football</td>\n",
       "    </tr>\n",
       "    <tr>\n",
       "      <th>15</th>\n",
       "      <td>ABEILHAN</td>\n",
       "      <td>96</td>\n",
       "      <td>football</td>\n",
       "    </tr>\n",
       "    <tr>\n",
       "      <th>16</th>\n",
       "      <td>ABELCOURT</td>\n",
       "      <td>11</td>\n",
       "      <td>football</td>\n",
       "    </tr>\n",
       "    <tr>\n",
       "      <th>17</th>\n",
       "      <td>ABERE</td>\n",
       "      <td>10</td>\n",
       "      <td>football</td>\n",
       "    </tr>\n",
       "    <tr>\n",
       "      <th>18</th>\n",
       "      <td>ABERGEMENT-CLEMENCIAT</td>\n",
       "      <td>25</td>\n",
       "      <td>tennis</td>\n",
       "    </tr>\n",
       "    <tr>\n",
       "      <th>19</th>\n",
       "      <td>ABERGEMENT-DE-CUISERY</td>\n",
       "      <td>38</td>\n",
       "      <td>football</td>\n",
       "    </tr>\n",
       "    <tr>\n",
       "      <th>20</th>\n",
       "      <td>ABERGEMENT-DE-VAREY</td>\n",
       "      <td>6</td>\n",
       "      <td>football</td>\n",
       "    </tr>\n",
       "    <tr>\n",
       "      <th>21</th>\n",
       "      <td>ABERGEMENT-LA-RONCE</td>\n",
       "      <td>40</td>\n",
       "      <td>football</td>\n",
       "    </tr>\n",
       "    <tr>\n",
       "      <th>22</th>\n",
       "      <td>ABERGEMENT-LE-PETIT</td>\n",
       "      <td>1</td>\n",
       "      <td>football</td>\n",
       "    </tr>\n",
       "    <tr>\n",
       "      <th>23</th>\n",
       "      <td>ABERGEMENT-LES-THESY</td>\n",
       "      <td>8</td>\n",
       "      <td>football</td>\n",
       "    </tr>\n",
       "    <tr>\n",
       "      <th>24</th>\n",
       "      <td>ABERGEMENT-SAINTE-COLOMBE</td>\n",
       "      <td>75</td>\n",
       "      <td>football</td>\n",
       "    </tr>\n",
       "    <tr>\n",
       "      <th>25</th>\n",
       "      <td>ABIDOS</td>\n",
       "      <td>8</td>\n",
       "      <td>football</td>\n",
       "    </tr>\n",
       "    <tr>\n",
       "      <th>26</th>\n",
       "      <td>ABILLY</td>\n",
       "      <td>23</td>\n",
       "      <td>football</td>\n",
       "    </tr>\n",
       "    <tr>\n",
       "      <th>27</th>\n",
       "      <td>ABITAIN</td>\n",
       "      <td>2</td>\n",
       "      <td>football</td>\n",
       "    </tr>\n",
       "    <tr>\n",
       "      <th>28</th>\n",
       "      <td>ABITAIN</td>\n",
       "      <td>2</td>\n",
       "      <td>tennis</td>\n",
       "    </tr>\n",
       "    <tr>\n",
       "      <th>29</th>\n",
       "      <td>ABJAT-SUR-BANDIAT</td>\n",
       "      <td>18</td>\n",
       "      <td>football</td>\n",
       "    </tr>\n",
       "    <tr>\n",
       "      <th>...</th>\n",
       "      <td>...</td>\n",
       "      <td>...</td>\n",
       "      <td>...</td>\n",
       "    </tr>\n",
       "    <tr>\n",
       "      <th>33636</th>\n",
       "      <td>ZAESSINGUE</td>\n",
       "      <td>22</td>\n",
       "      <td>football</td>\n",
       "    </tr>\n",
       "    <tr>\n",
       "      <th>33637</th>\n",
       "      <td>ZALANA</td>\n",
       "      <td>3</td>\n",
       "      <td>football</td>\n",
       "    </tr>\n",
       "    <tr>\n",
       "      <th>33638</th>\n",
       "      <td>ZARBELING</td>\n",
       "      <td>3</td>\n",
       "      <td>football</td>\n",
       "    </tr>\n",
       "    <tr>\n",
       "      <th>33639</th>\n",
       "      <td>ZEGERSCAPPEL</td>\n",
       "      <td>114</td>\n",
       "      <td>football</td>\n",
       "    </tr>\n",
       "    <tr>\n",
       "      <th>33640</th>\n",
       "      <td>ZEHNACKER</td>\n",
       "      <td>13</td>\n",
       "      <td>football</td>\n",
       "    </tr>\n",
       "    <tr>\n",
       "      <th>33641</th>\n",
       "      <td>ZEINHEIM</td>\n",
       "      <td>9</td>\n",
       "      <td>football</td>\n",
       "    </tr>\n",
       "    <tr>\n",
       "      <th>33642</th>\n",
       "      <td>ZELLENBERG</td>\n",
       "      <td>18</td>\n",
       "      <td>football</td>\n",
       "    </tr>\n",
       "    <tr>\n",
       "      <th>33643</th>\n",
       "      <td>ZELLWILLER</td>\n",
       "      <td>72</td>\n",
       "      <td>football</td>\n",
       "    </tr>\n",
       "    <tr>\n",
       "      <th>33644</th>\n",
       "      <td>ZERMEZEELE</td>\n",
       "      <td>7</td>\n",
       "      <td>football</td>\n",
       "    </tr>\n",
       "    <tr>\n",
       "      <th>33645</th>\n",
       "      <td>ZETTING</td>\n",
       "      <td>55</td>\n",
       "      <td>football</td>\n",
       "    </tr>\n",
       "    <tr>\n",
       "      <th>33646</th>\n",
       "      <td>ZEVACO</td>\n",
       "      <td>3</td>\n",
       "      <td>football</td>\n",
       "    </tr>\n",
       "    <tr>\n",
       "      <th>33647</th>\n",
       "      <td>ZICAVO</td>\n",
       "      <td>7</td>\n",
       "      <td>football</td>\n",
       "    </tr>\n",
       "    <tr>\n",
       "      <th>33648</th>\n",
       "      <td>ZILIA</td>\n",
       "      <td>5</td>\n",
       "      <td>football</td>\n",
       "    </tr>\n",
       "    <tr>\n",
       "      <th>33649</th>\n",
       "      <td>ZILLING</td>\n",
       "      <td>5</td>\n",
       "      <td>tennis</td>\n",
       "    </tr>\n",
       "    <tr>\n",
       "      <th>33650</th>\n",
       "      <td>ZILLISHEIM</td>\n",
       "      <td>74</td>\n",
       "      <td>tennis</td>\n",
       "    </tr>\n",
       "    <tr>\n",
       "      <th>33651</th>\n",
       "      <td>ZIMMERBACH</td>\n",
       "      <td>39</td>\n",
       "      <td>tennis</td>\n",
       "    </tr>\n",
       "    <tr>\n",
       "      <th>33652</th>\n",
       "      <td>ZIMMERSHEIM</td>\n",
       "      <td>46</td>\n",
       "      <td>football</td>\n",
       "    </tr>\n",
       "    <tr>\n",
       "      <th>33653</th>\n",
       "      <td>ZIMMING</td>\n",
       "      <td>20</td>\n",
       "      <td>football</td>\n",
       "    </tr>\n",
       "    <tr>\n",
       "      <th>33654</th>\n",
       "      <td>ZINCOURT</td>\n",
       "      <td>3</td>\n",
       "      <td>tennis</td>\n",
       "    </tr>\n",
       "    <tr>\n",
       "      <th>33655</th>\n",
       "      <td>ZINSWILLER</td>\n",
       "      <td>50</td>\n",
       "      <td>football</td>\n",
       "    </tr>\n",
       "    <tr>\n",
       "      <th>33656</th>\n",
       "      <td>ZITTERSHEIM</td>\n",
       "      <td>6</td>\n",
       "      <td>football</td>\n",
       "    </tr>\n",
       "    <tr>\n",
       "      <th>33657</th>\n",
       "      <td>ZOEBERSDORF</td>\n",
       "      <td>10</td>\n",
       "      <td>football</td>\n",
       "    </tr>\n",
       "    <tr>\n",
       "      <th>33658</th>\n",
       "      <td>ZONZA</td>\n",
       "      <td>102</td>\n",
       "      <td>football</td>\n",
       "    </tr>\n",
       "    <tr>\n",
       "      <th>33659</th>\n",
       "      <td>ZOTEUX</td>\n",
       "      <td>45</td>\n",
       "      <td>football</td>\n",
       "    </tr>\n",
       "    <tr>\n",
       "      <th>33660</th>\n",
       "      <td>ZOUAFQUES</td>\n",
       "      <td>31</td>\n",
       "      <td>football</td>\n",
       "    </tr>\n",
       "    <tr>\n",
       "      <th>33661</th>\n",
       "      <td>ZOUFFTGEN</td>\n",
       "      <td>38</td>\n",
       "      <td>football</td>\n",
       "    </tr>\n",
       "    <tr>\n",
       "      <th>33662</th>\n",
       "      <td>ZUDAUSQUES</td>\n",
       "      <td>64</td>\n",
       "      <td>football</td>\n",
       "    </tr>\n",
       "    <tr>\n",
       "      <th>33663</th>\n",
       "      <td>ZUTKERQUE</td>\n",
       "      <td>101</td>\n",
       "      <td>football</td>\n",
       "    </tr>\n",
       "    <tr>\n",
       "      <th>33664</th>\n",
       "      <td>ZUYDCOOTE</td>\n",
       "      <td>69</td>\n",
       "      <td>football</td>\n",
       "    </tr>\n",
       "    <tr>\n",
       "      <th>33665</th>\n",
       "      <td>ZUYTPEENE</td>\n",
       "      <td>29</td>\n",
       "      <td>football</td>\n",
       "    </tr>\n",
       "  </tbody>\n",
       "</table>\n",
       "<p>33666 rows × 3 columns</p>\n",
       "</div>"
      ],
      "text/plain": [
       "                         LIBELLE  le_max fed_2012_libelles\n",
       "0                           AAST       3            tennis\n",
       "1                     ABAINVILLE       8          football\n",
       "2                      ABANCOURT      19          football\n",
       "3                      ABAUCOURT       8          football\n",
       "4           ABAUCOURT-HAUTECOURT       3          football\n",
       "5                 ABBANS-DESSOUS      14          football\n",
       "6                  ABBANS-DESSUS      12          football\n",
       "7                       ABBARETZ      94          football\n",
       "8                      ABBECOURT      21          football\n",
       "9                       ABBENANS      11          football\n",
       "10                     ABBEVILLE     914          football\n",
       "11          ABBEVILLE-LA-RIVIERE       9            tennis\n",
       "12        ABBEVILLE-LES-CONFLANS       5            tennis\n",
       "13        ABBEVILLE-SAINT-LUCIEN      22          football\n",
       "14                   ABBEVILLERS      36          football\n",
       "15                      ABEILHAN      96          football\n",
       "16                     ABELCOURT      11          football\n",
       "17                         ABERE      10          football\n",
       "18         ABERGEMENT-CLEMENCIAT      25            tennis\n",
       "19         ABERGEMENT-DE-CUISERY      38          football\n",
       "20           ABERGEMENT-DE-VAREY       6          football\n",
       "21           ABERGEMENT-LA-RONCE      40          football\n",
       "22           ABERGEMENT-LE-PETIT       1          football\n",
       "23          ABERGEMENT-LES-THESY       8          football\n",
       "24     ABERGEMENT-SAINTE-COLOMBE      75          football\n",
       "25                        ABIDOS       8          football\n",
       "26                        ABILLY      23          football\n",
       "27                       ABITAIN       2          football\n",
       "28                       ABITAIN       2            tennis\n",
       "29             ABJAT-SUR-BANDIAT      18          football\n",
       "...                          ...     ...               ...\n",
       "33636                 ZAESSINGUE      22          football\n",
       "33637                     ZALANA       3          football\n",
       "33638                  ZARBELING       3          football\n",
       "33639               ZEGERSCAPPEL     114          football\n",
       "33640                  ZEHNACKER      13          football\n",
       "33641                   ZEINHEIM       9          football\n",
       "33642                 ZELLENBERG      18          football\n",
       "33643                 ZELLWILLER      72          football\n",
       "33644                 ZERMEZEELE       7          football\n",
       "33645                    ZETTING      55          football\n",
       "33646                     ZEVACO       3          football\n",
       "33647                     ZICAVO       7          football\n",
       "33648                      ZILIA       5          football\n",
       "33649                    ZILLING       5            tennis\n",
       "33650                 ZILLISHEIM      74            tennis\n",
       "33651                 ZIMMERBACH      39            tennis\n",
       "33652                ZIMMERSHEIM      46          football\n",
       "33653                    ZIMMING      20          football\n",
       "33654                   ZINCOURT       3            tennis\n",
       "33655                 ZINSWILLER      50          football\n",
       "33656                ZITTERSHEIM       6          football\n",
       "33657                ZOEBERSDORF      10          football\n",
       "33658                      ZONZA     102          football\n",
       "33659                     ZOTEUX      45          football\n",
       "33660                  ZOUAFQUES      31          football\n",
       "33661                  ZOUFFTGEN      38          football\n",
       "33662                 ZUDAUSQUES      64          football\n",
       "33663                  ZUTKERQUE     101          football\n",
       "33664                  ZUYDCOOTE      69          football\n",
       "33665                  ZUYTPEENE      29          football\n",
       "\n",
       "[33666 rows x 3 columns]"
      ]
     },
     "execution_count": 25,
     "metadata": {},
     "output_type": "execute_result"
    }
   ],
   "source": [
    "resultat = pd.merge(t2, \n",
    "                     t.ix[:, ['LIBELLE', 'fed_2012_libelles', 'l_2012']],\n",
    "                     left_on=['LIBELLE', 'le_max'],\n",
    "                     right_on=['LIBELLE', 'l_2012'])\n",
    "resultat.ix[:, ['LIBELLE', 'le_max', 'fed_2012_libelles']]"
   ]
  },
  {
   "cell_type": "code",
   "execution_count": 26,
   "metadata": {
    "collapsed": true
   },
   "outputs": [
    {
     "ename": "NameError",
     "evalue": "name 'grouped' is not defined",
     "output_type": "error",
     "traceback": [
      "\u001b[1;31m---------------------------------------------------------------------------\u001b[0m",
      "\u001b[1;31mNameError\u001b[0m                                 Traceback (most recent call last)",
      "\u001b[1;32m<ipython-input-26-04165611e478>\u001b[0m in \u001b[0;36m<module>\u001b[1;34m()\u001b[0m\n\u001b[0;32m      1\u001b[0m \u001b[1;32mimport\u001b[0m \u001b[0mnumpy\u001b[0m \u001b[1;32mas\u001b[0m \u001b[0mnp\u001b[0m\u001b[1;33m\u001b[0m\u001b[0m\n\u001b[1;32m----> 2\u001b[1;33m \u001b[0mgrouped\u001b[0m\u001b[1;33m[\u001b[0m\u001b[1;34m\"l_2012\"\u001b[0m\u001b[1;33m,\u001b[0m \u001b[1;34m\"fed_2012_libelles\"\u001b[0m\u001b[1;33m]\u001b[0m\u001b[1;33m.\u001b[0m\u001b[0magg\u001b[0m\u001b[1;33m(\u001b[0m\u001b[1;33m{\u001b[0m\u001b[1;34m\"l_2012\"\u001b[0m\u001b[1;33m:\u001b[0m \u001b[0mnp\u001b[0m\u001b[1;33m.\u001b[0m\u001b[0mmax\u001b[0m\u001b[1;33m}\u001b[0m\u001b[1;33m)\u001b[0m\u001b[1;33m\u001b[0m\u001b[0m\n\u001b[0m",
      "\u001b[1;31mNameError\u001b[0m: name 'grouped' is not defined"
     ]
    }
   ],
   "source": [
    "import numpy as np\n",
    "grouped[\"l_2012\", \"fed_2012_libelles\"].agg({\"l_2012\": np.max})"
   ]
  },
  {
   "cell_type": "code",
   "execution_count": 27,
   "metadata": {
    "collapsed": false
   },
   "outputs": [],
   "source": [
    "t = [x.startswith('r') for x in t_licences.fed_2012_libelles.tolist()]"
   ]
  },
  {
   "cell_type": "code",
   "execution_count": 28,
   "metadata": {
    "collapsed": true
   },
   "outputs": [
    {
     "data": {
      "text/plain": [
       "roller sports    7162\n",
       "rugby à XIII     1165\n",
       "Name: fed_2012_libelles, dtype: int64"
      ]
     },
     "execution_count": 28,
     "metadata": {},
     "output_type": "execute_result"
    }
   ],
   "source": [
    "t_licences.loc[t].fed_2012_libelles.value_counts()"
   ]
  },
  {
   "cell_type": "markdown",
   "metadata": {},
   "source": [
    "### Quelles sont les communes ou la boxe est elle le plus pratiqué?"
   ]
  },
  {
   "cell_type": "code",
   "execution_count": 144,
   "metadata": {
    "collapsed": false,
    "scrolled": false
   },
   "outputs": [
    {
     "data": {
      "image/png": "[encoded data removed]",
      "text/plain": [
       "<matplotlib.figure.Figure at 0x7f314d75b240>"
      ]
     },
     "metadata": {},
     "output_type": "display_data"
    }
   ],
   "source": [
    "communes_boxe = t_licences.loc[t_licences[\"fed_2012\"] == 106][['LIBELLE', 'l_2012']].sort_values(by=\"l_2012\", ascending=False)\n",
    "\n",
    "\n",
    "communes_boxe.head(30).plot(x=\"LIBELLE\", y=\"l_2012\", kind='barh', color='green', figsize=(10, 8))\n",
    "plt.gca().invert_yaxis()"
   ]
  },
  {
   "cell_type": "markdown",
   "metadata": {},
   "source": [
    "J'ai refait la même chose pour la boxe non proportionellement..."
   ]
  },
  {
   "cell_type": "code",
   "execution_count": 143,
   "metadata": {
    "collapsed": false,
    "scrolled": false
   },
   "outputs": [
    {
     "data": {
      "image/png": "[encoded data removed]",
      "text/plain": [
       "<matplotlib.figure.Figure at 0x7f314d850208>"
      ]
     },
     "metadata": {},
     "output_type": "display_data"
    }
   ],
   "source": [
    "communes_boxe= t_licences.loc[t_licences[\"fed_2012\"] == 106][['LIBELLE', 'l_2012_ratio']].sort_values(by=\"l_2012_ratio\", ascending=False)\n",
    "\n",
    "\n",
    "communes_boxe.head(30).plot(x=\"LIBELLE\", y=\"l_2012_ratio\", kind='barh', color='cyan', figsize=(10, 8))\n",
    "plt.gca().invert_yaxis()"
   ]
  },
  {
   "cell_type": "markdown",
   "metadata": {},
   "source": [
    "... puis proportionellement au nombre d'habitant dans la commune."
   ]
  },
  {
   "cell_type": "markdown",
   "metadata": {},
   "source": [
    "### Y-a-t-il une commune où il y a plus de boxeuses que de boxeurs ? Quelle est la commune où il y a le plus de boxeuses ?"
   ]
  },
  {
   "cell_type": "code",
   "execution_count": 145,
   "metadata": {
    "collapsed": false,
    "scrolled": false
   },
   "outputs": [
    {
     "data": {
      "image/png": "[encoded data removed]",
      "text/plain": [
       "<matplotlib.figure.Figure at 0x7f314d765320>"
      ]
     },
     "metadata": {},
     "output_type": "display_data"
    }
   ],
   "source": [
    "hsurf = t_licences[\"l_f_2012\"]/(t_licences[\"l_f_2012\"] + t_licences[\"l_h_2012\"])*100\n",
    "\n",
    "t_licences[\"hsurf\"] = hsurf\n",
    "\n",
    "selection_boxe_population = (t_licences[\"fed_2012\"] == 106) & (t_licences[\"l_f_2012\"] > t_licences[\"l_h_2012\"] ) & (t_licences[\"l_2012\"] > 10)\n",
    "t_licences.loc[selection_boxe_population][['LIBELLE', \"l_f_2012\", \"l_h_2012\", \"hsurf\",\"pop_2010\"]].sort_values(by=\"hsurf\",\n",
    "                                                                                       ascending=False).head(1000).plot(x=\"LIBELLE\", y=\"hsurf\", kind='barh', color='green', figsize=(10, 8))\n",
    "plt.gca().invert_yaxis()"
   ]
  },
  {
   "cell_type": "markdown",
   "metadata": {},
   "source": [
    "Comme indiqué dans le titre, j ai fait ici un graphique montrant les commune possedant plus de boxeuses que de boxeurs."
   ]
  },
  {
   "cell_type": "markdown",
   "metadata": {},
   "source": [
    "### Quels sont les sports préférés des personnes de plus de 40 ans ?"
   ]
  },
  {
   "cell_type": "code",
   "execution_count": 146,
   "metadata": {
    "collapsed": true
   },
   "outputs": [
    {
     "data": {
      "image/png": "[encoded data removed]",
      "text/plain": [
       "<matplotlib.figure.Figure at 0x7f314d6c2c50>"
      ]
     },
     "metadata": {},
     "output_type": "display_data"
    }
   ],
   "source": [
    "t_licences.groupby(\"fed_2012_libelles\")[[\"l_45_59_2012\",\"l_60_74_2012\"]].sum().head(20).sort_values(by=[\"l_45_59_2012\",\n",
    "                                                                                                        \"l_60_74_2012\" ], ascending=False).plot(figsize=(15, 10),\n",
    "                                                                                                                                                kind='barh',\n",
    "                                                                                                                                                color=[\"purple\",\"green\"],\n",
    "                                                                                                                                               alpha=0.9)\n",
    "plt.gca().invert_yaxis()"
   ]
  },
  {
   "cell_type": "markdown",
   "metadata": {},
   "source": [
    "### le nombre de personnes agées pratiquant le ballon au poing"
   ]
  },
  {
   "cell_type": "code",
   "execution_count": 35,
   "metadata": {
    "collapsed": true
   },
   "outputs": [
    {
     "data": {
      "text/plain": [
       "<matplotlib.axes._subplots.AxesSubplot at 0x7f315d376ef0>"
      ]
     },
     "execution_count": 35,
     "metadata": {},
     "output_type": "execute_result"
    },
    {
     "data": {
      "image/png": "[encoded data removed]",
      "text/plain": [
       "<matplotlib.figure.Figure at 0x7f315c26f0b8>"
      ]
     },
     "metadata": {},
     "output_type": "display_data"
    }
   ],
   "source": [
    "lol=t_licences[\"fed_2012\"] == 208\n",
    "t_licences.loc[lol][['LIBELLE', \"fed_2012\", \"pop_2010\",\"l_2012\", \"l_45_59_2012\"]].sort_values(by=\"l_45_59_2012\",ascending=False).head(50).plot(x=\"LIBELLE\", \n",
    "                                                                                                             y=\"l_45_59_2012\", \n",
    "                                                                                                             kind='barh', \n",
    "                                                                                                             color='green', \n",
    "                                                                                                             figsize=(10, 7))          \n",
    "\n",
    "\n"
   ]
  },
  {
   "cell_type": "code",
   "execution_count": 36,
   "metadata": {
    "collapsed": true
   },
   "outputs": [
    {
     "data": {
      "text/plain": [
       "Index(['LIBELLE', 'fed_2012', 'l_2012', 'l_0_4_2012', 'l_5_9_2012',\n",
       "       'l_10_14_2012', 'l_15_19_2012', 'l_20_29_2012', 'l_30_44_2012',\n",
       "       'l_45_59_2012', 'l_60_74_2012', 'l_75_99_2012', 'l_f_2012',\n",
       "       'l_0_4_f_2012', 'l_5_9_f_2012', 'l_10_14_f_2012', 'l_15_19_f_2012',\n",
       "       'l_20_29_f_2012', 'l_30_44_f_2012', 'l_45_59_f_2012', 'l_60_74_f_2012',\n",
       "       'l_75_99_f_2012', 'l_h_2012', 'l_0_4_h_2012', 'l_5_9_h_2012',\n",
       "       'l_10_14_h_2012', 'l_15_19_h_2012', 'l_20_29_h_2012', 'l_30_44_h_2012',\n",
       "       'l_45_59_h_2012', 'l_60_74_h_2012', 'l_75_99_h_2012', 'l_zus_2012',\n",
       "       'l_zus_f_2012', 'l_zus_h_2012', 'pop_2010', 'pop_0_4_2010',\n",
       "       'pop_5_9_2010', 'pop_10_14_2010', 'pop_15_19_2010', 'pop_20_29_2010',\n",
       "       'pop_30_44_2010', 'pop_45_59_2010', 'pop_60_74_2010', 'pop_75_99_2010',\n",
       "       'popf_2010', 'popf_0_4_2010', 'popf_5_9_2010', 'popf_10_14_2010',\n",
       "       'popf_15_19_2010', 'popf_20_29_2010', 'popf_30_44_2010',\n",
       "       'popf_45_59_2010', 'popf_60_74_2010', 'popf_75_99_2010', 'poph_2010',\n",
       "       'poph_0_4_2010', 'poph_5_9_2010', 'poph_10_14_2010', 'poph_15_19_2010',\n",
       "       'poph_20_29_2010', 'poph_30_44_2010', 'poph_45_59_2010',\n",
       "       'poph_60_74_2010', 'fed_2012_libelles', 'poph_75_99_2010',\n",
       "       'l_2012_ratio', 'l_0_4_2012_ratio', 'l_5_9_2012_ratio',\n",
       "       'l_10_14_2012_ratio', 'l_15_19_2012_ratio', 'l_20_29_2012_ratio',\n",
       "       'l_30_44_2012_ratio', 'l_45_59_2012_ratio', 'l_60_74_2012_ratio',\n",
       "       'l_75_99_2012_ratio', 'l_f_2012_ratio', 'l_0_4_f_2012_ratio',\n",
       "       'l_5_9_f_2012_ratio', 'l_10_14_f_2012_ratio', 'l_15_19_f_2012_ratio',\n",
       "       'l_20_29_f_2012_ratio', 'l_30_44_f_2012_ratio', 'l_45_59_f_2012_ratio',\n",
       "       'l_60_74_f_2012_ratio', 'l_75_99_f_2012_ratio', 'l_h_2012_ratio',\n",
       "       'l_0_4_h_2012_ratio', 'l_5_9_h_2012_ratio', 'l_10_14_h_2012_ratio',\n",
       "       'l_15_19_h_2012_ratio', 'l_20_29_h_2012_ratio', 'l_30_44_h_2012_ratio',\n",
       "       'l_45_59_h_2012_ratio', 'l_60_74_h_2012_ratio', 'l_75_99_h_2012_ratio',\n",
       "       'hsurf'],\n",
       "      dtype='object')"
      ]
     },
     "execution_count": 36,
     "metadata": {},
     "output_type": "execute_result"
    }
   ],
   "source": [
    "t_licences.columns"
   ]
  },
  {
   "cell_type": "markdown",
   "metadata": {},
   "source": [
    "### Quels sont les sports préférés des très jeunes (0-4 ans)  ? des jeunes ( < 18 ans) ?"
   ]
  },
  {
   "cell_type": "code",
   "execution_count": 160,
   "metadata": {
    "collapsed": false
   },
   "outputs": [
    {
     "data": {
      "text/plain": [
       "<matplotlib.axes._subplots.AxesSubplot at 0x7f314d36a630>"
      ]
     },
     "execution_count": 160,
     "metadata": {},
     "output_type": "execute_result"
    },
    {
     "data": {
      "image/png": "[encoded data removed]",
      "text/plain": [
       "<matplotlib.figure.Figure at 0x7f314d1c7fd0>"
      ]
     },
     "metadata": {},
     "output_type": "display_data"
    }
   ],
   "source": [
    "t_licences.groupby(\"fed_2012_libelles\")[[\"l_0_4_2012\",\n",
    "                                         \"l_5_9_2012\", \n",
    "                                         \"l_10_14_2012\", \n",
    "                                         \"l_15_19_2012\"]].sum().head(10).sort_values(by=[\"l_0_4_2012\",\n",
    "                                                                                        \"l_5_9_2012\", \n",
    "                                                                                        \"l_10_14_2012\", \n",
    "                                                                                        \"l_15_19_2012\"], ascending=True).plot(figsize=(15, 15),\n",
    "                                                                                                                                   kind='barh',\n",
    "                                                                                                                                   color=[\"purple\",\"red\", \"blue\", \"c\"],\n",
    "                                                                                                                                   alpha=0.6)\n"
   ]
  },
  {
   "cell_type": "markdown",
   "metadata": {
    "collapsed": true
   },
   "source": [
    "Ici la petite étude que j'ai fait montre les sports pratiqués pour chaque tranche d'age de 0 à 19 ans."
   ]
  },
  {
   "cell_type": "code",
   "execution_count": 153,
   "metadata": {
    "collapsed": false
   },
   "outputs": [
    {
     "data": {
      "text/plain": [
       "0"
      ]
     },
     "execution_count": 153,
     "metadata": {},
     "output_type": "execute_result"
    }
   ],
   "source": [
    "t_licences[(t_licences[\"fed_2012\"] == 111)][\"l_0_4_2012\"].sum()"
   ]
  },
  {
   "cell_type": "markdown",
   "metadata": {},
   "source": [
    "Le nombre d'enfants de 0 à 4 ans pratiquant le football."
   ]
  },
  {
   "cell_type": "markdown",
   "metadata": {},
   "source": [
    "### Quelle est la proportion homme/femme des pratiquants de l'équitation ?"
   ]
  },
  {
   "cell_type": "code",
   "execution_count": 39,
   "metadata": {
    "collapsed": false,
    "scrolled": false
   },
   "outputs": [
    {
     "data": {
      "text/plain": [
       "82.532431028470981"
      ]
     },
     "execution_count": 39,
     "metadata": {},
     "output_type": "execute_result"
    }
   ],
   "source": [
    "select_E = (t_licences[\"fed_2012\"] == 109) \n",
    "t_equitation = t_licences.loc[select_E][[ \"l_f_2012\", \"l_h_2012\"]]\n",
    "proportionf = t_equitation[\"l_f_2012\"].sum()/(t_equitation[\"l_f_2012\"].sum()+t_equitation[\"l_h_2012\"].sum())*100\n",
    "proportionf"
   ]
  },
  {
   "cell_type": "markdown",
   "metadata": {},
   "source": [
    "J'ai ici cherché la proportion de femmes faisant de l'équitation. A partir d'ici, on peut conclure que la proportion d'hommes pratiquant l'équitation est d'environ 17,5 pour cent."
   ]
  },
  {
   "cell_type": "markdown",
   "metadata": {},
   "source": [
    "### Quel est le sport le plus féminisé ? Masculanisé ?"
   ]
  },
  {
   "cell_type": "code",
   "execution_count": 161,
   "metadata": {
    "collapsed": false
   },
   "outputs": [
    {
     "data": {
      "image/png": "[encoded data removed]",
      "text/plain": [
       "<matplotlib.figure.Figure at 0x7f314d8018d0>"
      ]
     },
     "metadata": {},
     "output_type": "display_data"
    }
   ],
   "source": [
    "t_prop = t_licences.groupby(\"fed_2012_libelles\")[\"l_f_2012\"].sum()/t_licences.groupby(\"fed_2012_libelles\")[\"l_2012\"].sum()\n",
    "\n",
    "\n",
    "result = t_prop.head(30).sort_values(ascending = False)*100\n",
    "result.plot(figsize=(10, 8),\n",
    "                                                        kind='barh',\n",
    "                                                        color=\"purple\",\n",
    "                                                        y=\"t_prop\")\n",
    "plt.gca().invert_yaxis()"
   ]
  },
  {
   "cell_type": "markdown",
   "metadata": {},
   "source": [
    "J'ai cherché ici la proportion de licences féminines dans les sports pratiqués essentiellement par des femmes. Ce sont les sports de glace."
   ]
  },
  {
   "cell_type": "code",
   "execution_count": 156,
   "metadata": {
    "collapsed": false,
    "scrolled": false
   },
   "outputs": [
    {
     "data": {
      "text/html": [
       "<div>\n",
       "<table border=\"1\" class=\"dataframe\">\n",
       "  <thead>\n",
       "    <tr style=\"text-align: right;\">\n",
       "      <th></th>\n",
       "      <th>l_f_2012</th>\n",
       "      <th>l_2012</th>\n",
       "      <th>t_prop</th>\n",
       "    </tr>\n",
       "    <tr>\n",
       "      <th>fed_2012_libelles</th>\n",
       "      <th></th>\n",
       "      <th></th>\n",
       "      <th></th>\n",
       "    </tr>\n",
       "  </thead>\n",
       "  <tbody>\n",
       "    <tr>\n",
       "      <th>sports de glace</th>\n",
       "      <td>17292</td>\n",
       "      <td>20551</td>\n",
       "      <td>0.841419</td>\n",
       "    </tr>\n",
       "    <tr>\n",
       "      <th>Union nationale sportive Léo Lagrange</th>\n",
       "      <td>20332</td>\n",
       "      <td>33377</td>\n",
       "      <td>0.609162</td>\n",
       "    </tr>\n",
       "    <tr>\n",
       "      <th>Wushu Arts énergétiques et martiaux chinois</th>\n",
       "      <td>19061</td>\n",
       "      <td>35048</td>\n",
       "      <td>0.543854</td>\n",
       "    </tr>\n",
       "    <tr>\n",
       "      <th>athlétisme</th>\n",
       "      <td>103791</td>\n",
       "      <td>235661</td>\n",
       "      <td>0.440425</td>\n",
       "    </tr>\n",
       "    <tr>\n",
       "      <th>Union française des œuvres laïques d'éducation p,hysique (UFOLEP)</th>\n",
       "      <td>171160</td>\n",
       "      <td>389695</td>\n",
       "      <td>0.439215</td>\n",
       "    </tr>\n",
       "    <tr>\n",
       "      <th>Fédération sportive des ASPTT</th>\n",
       "      <td>59731</td>\n",
       "      <td>148731</td>\n",
       "      <td>0.401604</td>\n",
       "    </tr>\n",
       "    <tr>\n",
       "      <th>Union nationale scolaire (UNSS)</th>\n",
       "      <td>372834</td>\n",
       "      <td>948797</td>\n",
       "      <td>0.392954</td>\n",
       "    </tr>\n",
       "    <tr>\n",
       "      <th>badminton</th>\n",
       "      <td>62654</td>\n",
       "      <td>163572</td>\n",
       "      <td>0.383036</td>\n",
       "    </tr>\n",
       "    <tr>\n",
       "      <th>Union nationale des clubs universitaires</th>\n",
       "      <td>24090</td>\n",
       "      <td>70268</td>\n",
       "      <td>0.342830</td>\n",
       "    </tr>\n",
       "    <tr>\n",
       "      <th>adapté</th>\n",
       "      <td>13028</td>\n",
       "      <td>38392</td>\n",
       "      <td>0.339342</td>\n",
       "    </tr>\n",
       "    <tr>\n",
       "      <th>aïkido, d'aïkibudo et affinitaires</th>\n",
       "      <td>7934</td>\n",
       "      <td>29125</td>\n",
       "      <td>0.272412</td>\n",
       "    </tr>\n",
       "    <tr>\n",
       "      <th>Fédération Flying Disc France:</th>\n",
       "      <td>613</td>\n",
       "      <td>2367</td>\n",
       "      <td>0.258978</td>\n",
       "    </tr>\n",
       "    <tr>\n",
       "      <th>aïkido et de budo</th>\n",
       "      <td>6514</td>\n",
       "      <td>27851</td>\n",
       "      <td>0.233887</td>\n",
       "    </tr>\n",
       "    <tr>\n",
       "      <th>aérostation</th>\n",
       "      <td>188</td>\n",
       "      <td>955</td>\n",
       "      <td>0.196859</td>\n",
       "    </tr>\n",
       "    <tr>\n",
       "      <th>Maccabi</th>\n",
       "      <td>1208</td>\n",
       "      <td>7261</td>\n",
       "      <td>0.166368</td>\n",
       "    </tr>\n",
       "    <tr>\n",
       "      <th>automobile</th>\n",
       "      <td>5141</td>\n",
       "      <td>45450</td>\n",
       "      <td>0.113113</td>\n",
       "    </tr>\n",
       "    <tr>\n",
       "      <th>ballon au poing</th>\n",
       "      <td>37</td>\n",
       "      <td>485</td>\n",
       "      <td>0.076289</td>\n",
       "    </tr>\n",
       "    <tr>\n",
       "      <th>aéronautique</th>\n",
       "      <td>2945</td>\n",
       "      <td>39872</td>\n",
       "      <td>0.073861</td>\n",
       "    </tr>\n",
       "    <tr>\n",
       "      <th>ball-trap et de tir à balle</th>\n",
       "      <td>854</td>\n",
       "      <td>21487</td>\n",
       "      <td>0.039745</td>\n",
       "    </tr>\n",
       "    <tr>\n",
       "      <th>aéromodélisme</th>\n",
       "      <td>923</td>\n",
       "      <td>27983</td>\n",
       "      <td>0.032984</td>\n",
       "    </tr>\n",
       "  </tbody>\n",
       "</table>\n",
       "</div>"
      ],
      "text/plain": [
       "                                                    l_f_2012  l_2012    t_prop\n",
       "fed_2012_libelles                                                             \n",
       " sports de glace                                       17292   20551  0.841419\n",
       "Union nationale sportive Léo Lagrange                  20332   33377  0.609162\n",
       "Wushu Arts énergétiques et martiaux chinois            19061   35048  0.543854\n",
       "athlétisme                                            103791  235661  0.440425\n",
       "Union française des œuvres laïques d'éducation ...    171160  389695  0.439215\n",
       "Fédération sportive des ASPTT                          59731  148731  0.401604\n",
       "Union nationale scolaire (UNSS)                       372834  948797  0.392954\n",
       "badminton                                              62654  163572  0.383036\n",
       "Union nationale des clubs universitaires               24090   70268  0.342830\n",
       "adapté                                                 13028   38392  0.339342\n",
       "aïkido, d'aïkibudo et affinitaires                      7934   29125  0.272412\n",
       "Fédération Flying Disc France:                           613    2367  0.258978\n",
       "aïkido et de budo                                       6514   27851  0.233887\n",
       "aérostation                                              188     955  0.196859\n",
       "Maccabi                                                 1208    7261  0.166368\n",
       "automobile                                              5141   45450  0.113113\n",
       "ballon au poing                                           37     485  0.076289\n",
       "aéronautique                                            2945   39872  0.073861\n",
       "ball-trap et de tir à balle                              854   21487  0.039745\n",
       "aéromodélisme                                            923   27983  0.032984"
      ]
     },
     "execution_count": 156,
     "metadata": {},
     "output_type": "execute_result"
    }
   ],
   "source": [
    "t_sports = t_licences.groupby(\"fed_2012_libelles\")[[\"l_f_2012\", \"l_2012\", \"t_prop\"]].sum()\n",
    "t_sports[\"t_prop\"] = t_prop\n",
    "t_sports.head(20).sort_values(by=\"t_prop\", ascending=False)"
   ]
  },
  {
   "cell_type": "markdown",
   "metadata": {},
   "source": [
    "C'est ici la même chose que le graphique ci dessus mais en tableau."
   ]
  }
 ],
 "metadata": {
  "kernelspec": {
   "display_name": "Python 3",
   "language": "python",
   "name": "python3"
  },
  "language_info": {
   "codemirror_mode": {
    "name": "ipython",
    "version": 3
   },
   "file_extension": ".py",
   "mimetype": "text/x-python",
   "name": "python",
   "nbconvert_exporter": "python",
   "pygments_lexer": "ipython3",
   "version": "3.4.3"
  }
 },
 "nbformat": 4,
 "nbformat_minor": 0
}
